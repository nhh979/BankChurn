{
 "cells": [
  {
   "cell_type": "code",
   "execution_count": 1,
   "id": "585488ed",
   "metadata": {
    "_cell_guid": "b1076dfc-b9ad-4769-8c92-a6c4dae69d19",
    "_uuid": "8f2839f25d086af736a60e9eeb907d3b93b6e0e5",
    "execution": {
     "iopub.execute_input": "2024-01-28T16:31:20.214762Z",
     "iopub.status.busy": "2024-01-28T16:31:20.214082Z",
     "iopub.status.idle": "2024-01-28T16:31:20.930967Z",
     "shell.execute_reply": "2024-01-28T16:31:20.930138Z"
    },
    "papermill": {
     "duration": 0.743096,
     "end_time": "2024-01-28T16:31:20.933060",
     "exception": false,
     "start_time": "2024-01-28T16:31:20.189964",
     "status": "completed"
    },
    "tags": []
   },
   "outputs": [
    {
     "name": "stdout",
     "output_type": "stream",
     "text": [
      "/kaggle/input/playground-series-s4e1/sample_submission.csv\n",
      "/kaggle/input/playground-series-s4e1/train.csv\n",
      "/kaggle/input/playground-series-s4e1/test.csv\n"
     ]
    }
   ],
   "source": [
    "# This Python 3 environment comes with many helpful analytics libraries installed\n",
    "# It is defined by the kaggle/python Docker image: https://github.com/kaggle/docker-python\n",
    "# For example, here's several helpful packages to load\n",
    "\n",
    "import numpy as np # linear algebra\n",
    "import pandas as pd # data processing, CSV file I/O (e.g. pd.read_csv)\n",
    "\n",
    "# Input data files are available in the read-only \"../input/\" directory\n",
    "# For example, running this (by clicking run or pressing Shift+Enter) will list all files under the input directory\n",
    "\n",
    "import os\n",
    "for dirname, _, filenames in os.walk('/kaggle/input'):\n",
    "    for filename in filenames:\n",
    "        print(os.path.join(dirname, filename))\n",
    "\n",
    "# You can write up to 20GB to the current directory (/kaggle/working/) that gets preserved as output when you create a version using \"Save & Run All\" \n",
    "# You can also write temporary files to /kaggle/temp/, but they won't be saved outside of the current session"
   ]
  },
  {
   "cell_type": "code",
   "execution_count": 2,
   "id": "3b8e67e3",
   "metadata": {
    "execution": {
     "iopub.execute_input": "2024-01-28T16:31:20.978696Z",
     "iopub.status.busy": "2024-01-28T16:31:20.977843Z",
     "iopub.status.idle": "2024-01-28T16:31:21.690577Z",
     "shell.execute_reply": "2024-01-28T16:31:21.689821Z"
    },
    "papermill": {
     "duration": 0.737534,
     "end_time": "2024-01-28T16:31:21.692946",
     "exception": false,
     "start_time": "2024-01-28T16:31:20.955412",
     "status": "completed"
    },
    "tags": []
   },
   "outputs": [],
   "source": [
    "df_train = pd.read_csv(\"/kaggle/input/playground-series-s4e1/train.csv\")\n",
    "df_test = pd.read_csv(\"/kaggle/input/playground-series-s4e1/test.csv\")"
   ]
  },
  {
   "cell_type": "code",
   "execution_count": 3,
   "id": "36ad1197",
   "metadata": {
    "execution": {
     "iopub.execute_input": "2024-01-28T16:31:21.736400Z",
     "iopub.status.busy": "2024-01-28T16:31:21.736094Z",
     "iopub.status.idle": "2024-01-28T16:31:21.800525Z",
     "shell.execute_reply": "2024-01-28T16:31:21.799686Z"
    },
    "papermill": {
     "duration": 0.088474,
     "end_time": "2024-01-28T16:31:21.802660",
     "exception": false,
     "start_time": "2024-01-28T16:31:21.714186",
     "status": "completed"
    },
    "tags": []
   },
   "outputs": [
    {
     "data": {
      "text/html": [
       "<div>\n",
       "<style scoped>\n",
       "    .dataframe tbody tr th:only-of-type {\n",
       "        vertical-align: middle;\n",
       "    }\n",
       "\n",
       "    .dataframe tbody tr th {\n",
       "        vertical-align: top;\n",
       "    }\n",
       "\n",
       "    .dataframe thead th {\n",
       "        text-align: right;\n",
       "    }\n",
       "</style>\n",
       "<table border=\"1\" class=\"dataframe\">\n",
       "  <thead>\n",
       "    <tr style=\"text-align: right;\">\n",
       "      <th></th>\n",
       "      <th>id</th>\n",
       "      <th>Exited</th>\n",
       "    </tr>\n",
       "  </thead>\n",
       "  <tbody>\n",
       "    <tr>\n",
       "      <th>0</th>\n",
       "      <td>165034</td>\n",
       "      <td>0.5</td>\n",
       "    </tr>\n",
       "    <tr>\n",
       "      <th>1</th>\n",
       "      <td>165035</td>\n",
       "      <td>0.5</td>\n",
       "    </tr>\n",
       "    <tr>\n",
       "      <th>2</th>\n",
       "      <td>165036</td>\n",
       "      <td>0.5</td>\n",
       "    </tr>\n",
       "    <tr>\n",
       "      <th>3</th>\n",
       "      <td>165037</td>\n",
       "      <td>0.5</td>\n",
       "    </tr>\n",
       "    <tr>\n",
       "      <th>4</th>\n",
       "      <td>165038</td>\n",
       "      <td>0.5</td>\n",
       "    </tr>\n",
       "    <tr>\n",
       "      <th>...</th>\n",
       "      <td>...</td>\n",
       "      <td>...</td>\n",
       "    </tr>\n",
       "    <tr>\n",
       "      <th>110018</th>\n",
       "      <td>275052</td>\n",
       "      <td>0.5</td>\n",
       "    </tr>\n",
       "    <tr>\n",
       "      <th>110019</th>\n",
       "      <td>275053</td>\n",
       "      <td>0.5</td>\n",
       "    </tr>\n",
       "    <tr>\n",
       "      <th>110020</th>\n",
       "      <td>275054</td>\n",
       "      <td>0.5</td>\n",
       "    </tr>\n",
       "    <tr>\n",
       "      <th>110021</th>\n",
       "      <td>275055</td>\n",
       "      <td>0.5</td>\n",
       "    </tr>\n",
       "    <tr>\n",
       "      <th>110022</th>\n",
       "      <td>275056</td>\n",
       "      <td>0.5</td>\n",
       "    </tr>\n",
       "  </tbody>\n",
       "</table>\n",
       "<p>110023 rows × 2 columns</p>\n",
       "</div>"
      ],
      "text/plain": [
       "            id  Exited\n",
       "0       165034     0.5\n",
       "1       165035     0.5\n",
       "2       165036     0.5\n",
       "3       165037     0.5\n",
       "4       165038     0.5\n",
       "...        ...     ...\n",
       "110018  275052     0.5\n",
       "110019  275053     0.5\n",
       "110020  275054     0.5\n",
       "110021  275055     0.5\n",
       "110022  275056     0.5\n",
       "\n",
       "[110023 rows x 2 columns]"
      ]
     },
     "execution_count": 3,
     "metadata": {},
     "output_type": "execute_result"
    }
   ],
   "source": [
    "pd.read_csv(\"/kaggle/input/playground-series-s4e1/sample_submission.csv\")"
   ]
  },
  {
   "cell_type": "code",
   "execution_count": 4,
   "id": "124fb575",
   "metadata": {
    "execution": {
     "iopub.execute_input": "2024-01-28T16:31:21.847134Z",
     "iopub.status.busy": "2024-01-28T16:31:21.846870Z",
     "iopub.status.idle": "2024-01-28T16:31:21.852253Z",
     "shell.execute_reply": "2024-01-28T16:31:21.851459Z"
    },
    "papermill": {
     "duration": 0.029336,
     "end_time": "2024-01-28T16:31:21.854113",
     "exception": false,
     "start_time": "2024-01-28T16:31:21.824777",
     "status": "completed"
    },
    "tags": []
   },
   "outputs": [
    {
     "data": {
      "text/plain": [
       "(165034, 14)"
      ]
     },
     "execution_count": 4,
     "metadata": {},
     "output_type": "execute_result"
    }
   ],
   "source": [
    "df_train.shape"
   ]
  },
  {
   "cell_type": "code",
   "execution_count": 5,
   "id": "042d23bb",
   "metadata": {
    "execution": {
     "iopub.execute_input": "2024-01-28T16:31:21.936776Z",
     "iopub.status.busy": "2024-01-28T16:31:21.936095Z",
     "iopub.status.idle": "2024-01-28T16:31:21.952141Z",
     "shell.execute_reply": "2024-01-28T16:31:21.951300Z"
    },
    "papermill": {
     "duration": 0.078861,
     "end_time": "2024-01-28T16:31:21.954161",
     "exception": false,
     "start_time": "2024-01-28T16:31:21.875300",
     "status": "completed"
    },
    "tags": []
   },
   "outputs": [
    {
     "data": {
      "text/html": [
       "<div>\n",
       "<style scoped>\n",
       "    .dataframe tbody tr th:only-of-type {\n",
       "        vertical-align: middle;\n",
       "    }\n",
       "\n",
       "    .dataframe tbody tr th {\n",
       "        vertical-align: top;\n",
       "    }\n",
       "\n",
       "    .dataframe thead th {\n",
       "        text-align: right;\n",
       "    }\n",
       "</style>\n",
       "<table border=\"1\" class=\"dataframe\">\n",
       "  <thead>\n",
       "    <tr style=\"text-align: right;\">\n",
       "      <th></th>\n",
       "      <th>id</th>\n",
       "      <th>CustomerId</th>\n",
       "      <th>Surname</th>\n",
       "      <th>CreditScore</th>\n",
       "      <th>Geography</th>\n",
       "      <th>Gender</th>\n",
       "      <th>Age</th>\n",
       "      <th>Tenure</th>\n",
       "      <th>Balance</th>\n",
       "      <th>NumOfProducts</th>\n",
       "      <th>HasCrCard</th>\n",
       "      <th>IsActiveMember</th>\n",
       "      <th>EstimatedSalary</th>\n",
       "      <th>Exited</th>\n",
       "    </tr>\n",
       "  </thead>\n",
       "  <tbody>\n",
       "    <tr>\n",
       "      <th>0</th>\n",
       "      <td>0</td>\n",
       "      <td>15674932</td>\n",
       "      <td>Okwudilichukwu</td>\n",
       "      <td>668</td>\n",
       "      <td>France</td>\n",
       "      <td>Male</td>\n",
       "      <td>33.0</td>\n",
       "      <td>3</td>\n",
       "      <td>0.00</td>\n",
       "      <td>2</td>\n",
       "      <td>1.0</td>\n",
       "      <td>0.0</td>\n",
       "      <td>181449.97</td>\n",
       "      <td>0</td>\n",
       "    </tr>\n",
       "    <tr>\n",
       "      <th>1</th>\n",
       "      <td>1</td>\n",
       "      <td>15749177</td>\n",
       "      <td>Okwudiliolisa</td>\n",
       "      <td>627</td>\n",
       "      <td>France</td>\n",
       "      <td>Male</td>\n",
       "      <td>33.0</td>\n",
       "      <td>1</td>\n",
       "      <td>0.00</td>\n",
       "      <td>2</td>\n",
       "      <td>1.0</td>\n",
       "      <td>1.0</td>\n",
       "      <td>49503.50</td>\n",
       "      <td>0</td>\n",
       "    </tr>\n",
       "    <tr>\n",
       "      <th>2</th>\n",
       "      <td>2</td>\n",
       "      <td>15694510</td>\n",
       "      <td>Hsueh</td>\n",
       "      <td>678</td>\n",
       "      <td>France</td>\n",
       "      <td>Male</td>\n",
       "      <td>40.0</td>\n",
       "      <td>10</td>\n",
       "      <td>0.00</td>\n",
       "      <td>2</td>\n",
       "      <td>1.0</td>\n",
       "      <td>0.0</td>\n",
       "      <td>184866.69</td>\n",
       "      <td>0</td>\n",
       "    </tr>\n",
       "    <tr>\n",
       "      <th>3</th>\n",
       "      <td>3</td>\n",
       "      <td>15741417</td>\n",
       "      <td>Kao</td>\n",
       "      <td>581</td>\n",
       "      <td>France</td>\n",
       "      <td>Male</td>\n",
       "      <td>34.0</td>\n",
       "      <td>2</td>\n",
       "      <td>148882.54</td>\n",
       "      <td>1</td>\n",
       "      <td>1.0</td>\n",
       "      <td>1.0</td>\n",
       "      <td>84560.88</td>\n",
       "      <td>0</td>\n",
       "    </tr>\n",
       "    <tr>\n",
       "      <th>4</th>\n",
       "      <td>4</td>\n",
       "      <td>15766172</td>\n",
       "      <td>Chiemenam</td>\n",
       "      <td>716</td>\n",
       "      <td>Spain</td>\n",
       "      <td>Male</td>\n",
       "      <td>33.0</td>\n",
       "      <td>5</td>\n",
       "      <td>0.00</td>\n",
       "      <td>2</td>\n",
       "      <td>1.0</td>\n",
       "      <td>1.0</td>\n",
       "      <td>15068.83</td>\n",
       "      <td>0</td>\n",
       "    </tr>\n",
       "  </tbody>\n",
       "</table>\n",
       "</div>"
      ],
      "text/plain": [
       "   id  CustomerId         Surname  CreditScore Geography Gender   Age  Tenure  \\\n",
       "0   0    15674932  Okwudilichukwu          668    France   Male  33.0       3   \n",
       "1   1    15749177   Okwudiliolisa          627    France   Male  33.0       1   \n",
       "2   2    15694510           Hsueh          678    France   Male  40.0      10   \n",
       "3   3    15741417             Kao          581    France   Male  34.0       2   \n",
       "4   4    15766172       Chiemenam          716     Spain   Male  33.0       5   \n",
       "\n",
       "     Balance  NumOfProducts  HasCrCard  IsActiveMember  EstimatedSalary  \\\n",
       "0       0.00              2        1.0             0.0        181449.97   \n",
       "1       0.00              2        1.0             1.0         49503.50   \n",
       "2       0.00              2        1.0             0.0        184866.69   \n",
       "3  148882.54              1        1.0             1.0         84560.88   \n",
       "4       0.00              2        1.0             1.0         15068.83   \n",
       "\n",
       "   Exited  \n",
       "0       0  \n",
       "1       0  \n",
       "2       0  \n",
       "3       0  \n",
       "4       0  "
      ]
     },
     "execution_count": 5,
     "metadata": {},
     "output_type": "execute_result"
    }
   ],
   "source": [
    "df_train.head()"
   ]
  },
  {
   "cell_type": "code",
   "execution_count": 6,
   "id": "6e67e6b4",
   "metadata": {
    "execution": {
     "iopub.execute_input": "2024-01-28T16:31:21.998744Z",
     "iopub.status.busy": "2024-01-28T16:31:21.998480Z",
     "iopub.status.idle": "2024-01-28T16:31:22.013652Z",
     "shell.execute_reply": "2024-01-28T16:31:22.012754Z"
    },
    "papermill": {
     "duration": 0.039768,
     "end_time": "2024-01-28T16:31:22.015608",
     "exception": false,
     "start_time": "2024-01-28T16:31:21.975840",
     "status": "completed"
    },
    "tags": []
   },
   "outputs": [
    {
     "data": {
      "text/html": [
       "<div>\n",
       "<style scoped>\n",
       "    .dataframe tbody tr th:only-of-type {\n",
       "        vertical-align: middle;\n",
       "    }\n",
       "\n",
       "    .dataframe tbody tr th {\n",
       "        vertical-align: top;\n",
       "    }\n",
       "\n",
       "    .dataframe thead th {\n",
       "        text-align: right;\n",
       "    }\n",
       "</style>\n",
       "<table border=\"1\" class=\"dataframe\">\n",
       "  <thead>\n",
       "    <tr style=\"text-align: right;\">\n",
       "      <th></th>\n",
       "      <th>id</th>\n",
       "      <th>CustomerId</th>\n",
       "      <th>Surname</th>\n",
       "      <th>CreditScore</th>\n",
       "      <th>Geography</th>\n",
       "      <th>Gender</th>\n",
       "      <th>Age</th>\n",
       "      <th>Tenure</th>\n",
       "      <th>Balance</th>\n",
       "      <th>NumOfProducts</th>\n",
       "      <th>HasCrCard</th>\n",
       "      <th>IsActiveMember</th>\n",
       "      <th>EstimatedSalary</th>\n",
       "    </tr>\n",
       "  </thead>\n",
       "  <tbody>\n",
       "    <tr>\n",
       "      <th>0</th>\n",
       "      <td>165034</td>\n",
       "      <td>15773898</td>\n",
       "      <td>Lucchese</td>\n",
       "      <td>586</td>\n",
       "      <td>France</td>\n",
       "      <td>Female</td>\n",
       "      <td>23.0</td>\n",
       "      <td>2</td>\n",
       "      <td>0.00</td>\n",
       "      <td>2</td>\n",
       "      <td>0.0</td>\n",
       "      <td>1.0</td>\n",
       "      <td>160976.75</td>\n",
       "    </tr>\n",
       "    <tr>\n",
       "      <th>1</th>\n",
       "      <td>165035</td>\n",
       "      <td>15782418</td>\n",
       "      <td>Nott</td>\n",
       "      <td>683</td>\n",
       "      <td>France</td>\n",
       "      <td>Female</td>\n",
       "      <td>46.0</td>\n",
       "      <td>2</td>\n",
       "      <td>0.00</td>\n",
       "      <td>1</td>\n",
       "      <td>1.0</td>\n",
       "      <td>0.0</td>\n",
       "      <td>72549.27</td>\n",
       "    </tr>\n",
       "    <tr>\n",
       "      <th>2</th>\n",
       "      <td>165036</td>\n",
       "      <td>15807120</td>\n",
       "      <td>K?</td>\n",
       "      <td>656</td>\n",
       "      <td>France</td>\n",
       "      <td>Female</td>\n",
       "      <td>34.0</td>\n",
       "      <td>7</td>\n",
       "      <td>0.00</td>\n",
       "      <td>2</td>\n",
       "      <td>1.0</td>\n",
       "      <td>0.0</td>\n",
       "      <td>138882.09</td>\n",
       "    </tr>\n",
       "    <tr>\n",
       "      <th>3</th>\n",
       "      <td>165037</td>\n",
       "      <td>15808905</td>\n",
       "      <td>O'Donnell</td>\n",
       "      <td>681</td>\n",
       "      <td>France</td>\n",
       "      <td>Male</td>\n",
       "      <td>36.0</td>\n",
       "      <td>8</td>\n",
       "      <td>0.00</td>\n",
       "      <td>1</td>\n",
       "      <td>1.0</td>\n",
       "      <td>0.0</td>\n",
       "      <td>113931.57</td>\n",
       "    </tr>\n",
       "    <tr>\n",
       "      <th>4</th>\n",
       "      <td>165038</td>\n",
       "      <td>15607314</td>\n",
       "      <td>Higgins</td>\n",
       "      <td>752</td>\n",
       "      <td>Germany</td>\n",
       "      <td>Male</td>\n",
       "      <td>38.0</td>\n",
       "      <td>10</td>\n",
       "      <td>121263.62</td>\n",
       "      <td>1</td>\n",
       "      <td>1.0</td>\n",
       "      <td>0.0</td>\n",
       "      <td>139431.00</td>\n",
       "    </tr>\n",
       "  </tbody>\n",
       "</table>\n",
       "</div>"
      ],
      "text/plain": [
       "       id  CustomerId    Surname  CreditScore Geography  Gender   Age  Tenure  \\\n",
       "0  165034    15773898   Lucchese          586    France  Female  23.0       2   \n",
       "1  165035    15782418       Nott          683    France  Female  46.0       2   \n",
       "2  165036    15807120         K?          656    France  Female  34.0       7   \n",
       "3  165037    15808905  O'Donnell          681    France    Male  36.0       8   \n",
       "4  165038    15607314    Higgins          752   Germany    Male  38.0      10   \n",
       "\n",
       "     Balance  NumOfProducts  HasCrCard  IsActiveMember  EstimatedSalary  \n",
       "0       0.00              2        0.0             1.0        160976.75  \n",
       "1       0.00              1        1.0             0.0         72549.27  \n",
       "2       0.00              2        1.0             0.0        138882.09  \n",
       "3       0.00              1        1.0             0.0        113931.57  \n",
       "4  121263.62              1        1.0             0.0        139431.00  "
      ]
     },
     "execution_count": 6,
     "metadata": {},
     "output_type": "execute_result"
    }
   ],
   "source": [
    "df_test.head()"
   ]
  },
  {
   "cell_type": "code",
   "execution_count": 7,
   "id": "2330b12e",
   "metadata": {
    "execution": {
     "iopub.execute_input": "2024-01-28T16:31:22.060876Z",
     "iopub.status.busy": "2024-01-28T16:31:22.060551Z",
     "iopub.status.idle": "2024-01-28T16:31:22.077534Z",
     "shell.execute_reply": "2024-01-28T16:31:22.076759Z"
    },
    "papermill": {
     "duration": 0.041649,
     "end_time": "2024-01-28T16:31:22.079542",
     "exception": false,
     "start_time": "2024-01-28T16:31:22.037893",
     "status": "completed"
    },
    "tags": []
   },
   "outputs": [],
   "source": [
    "df_train.drop(columns='id', inplace=True)"
   ]
  },
  {
   "cell_type": "code",
   "execution_count": 8,
   "id": "a1a0c65a",
   "metadata": {
    "execution": {
     "iopub.execute_input": "2024-01-28T16:31:22.126268Z",
     "iopub.status.busy": "2024-01-28T16:31:22.125991Z",
     "iopub.status.idle": "2024-01-28T16:31:22.186962Z",
     "shell.execute_reply": "2024-01-28T16:31:22.186016Z"
    },
    "papermill": {
     "duration": 0.085718,
     "end_time": "2024-01-28T16:31:22.188911",
     "exception": false,
     "start_time": "2024-01-28T16:31:22.103193",
     "status": "completed"
    },
    "tags": []
   },
   "outputs": [
    {
     "name": "stdout",
     "output_type": "stream",
     "text": [
      "<class 'pandas.core.frame.DataFrame'>\n",
      "RangeIndex: 165034 entries, 0 to 165033\n",
      "Data columns (total 13 columns):\n",
      " #   Column           Non-Null Count   Dtype  \n",
      "---  ------           --------------   -----  \n",
      " 0   CustomerId       165034 non-null  int64  \n",
      " 1   Surname          165034 non-null  object \n",
      " 2   CreditScore      165034 non-null  int64  \n",
      " 3   Geography        165034 non-null  object \n",
      " 4   Gender           165034 non-null  object \n",
      " 5   Age              165034 non-null  float64\n",
      " 6   Tenure           165034 non-null  int64  \n",
      " 7   Balance          165034 non-null  float64\n",
      " 8   NumOfProducts    165034 non-null  int64  \n",
      " 9   HasCrCard        165034 non-null  float64\n",
      " 10  IsActiveMember   165034 non-null  float64\n",
      " 11  EstimatedSalary  165034 non-null  float64\n",
      " 12  Exited           165034 non-null  int64  \n",
      "dtypes: float64(5), int64(5), object(3)\n",
      "memory usage: 16.4+ MB\n"
     ]
    }
   ],
   "source": [
    "df_train.info()"
   ]
  },
  {
   "cell_type": "code",
   "execution_count": 9,
   "id": "39161e2f",
   "metadata": {
    "execution": {
     "iopub.execute_input": "2024-01-28T16:31:22.235050Z",
     "iopub.status.busy": "2024-01-28T16:31:22.234738Z",
     "iopub.status.idle": "2024-01-28T16:31:22.318006Z",
     "shell.execute_reply": "2024-01-28T16:31:22.317086Z"
    },
    "papermill": {
     "duration": 0.108255,
     "end_time": "2024-01-28T16:31:22.320402",
     "exception": false,
     "start_time": "2024-01-28T16:31:22.212147",
     "status": "completed"
    },
    "tags": []
   },
   "outputs": [
    {
     "data": {
      "text/html": [
       "<div>\n",
       "<style scoped>\n",
       "    .dataframe tbody tr th:only-of-type {\n",
       "        vertical-align: middle;\n",
       "    }\n",
       "\n",
       "    .dataframe tbody tr th {\n",
       "        vertical-align: top;\n",
       "    }\n",
       "\n",
       "    .dataframe thead th {\n",
       "        text-align: right;\n",
       "    }\n",
       "</style>\n",
       "<table border=\"1\" class=\"dataframe\">\n",
       "  <thead>\n",
       "    <tr style=\"text-align: right;\">\n",
       "      <th></th>\n",
       "      <th>CustomerId</th>\n",
       "      <th>CreditScore</th>\n",
       "      <th>Age</th>\n",
       "      <th>Tenure</th>\n",
       "      <th>Balance</th>\n",
       "      <th>NumOfProducts</th>\n",
       "      <th>HasCrCard</th>\n",
       "      <th>IsActiveMember</th>\n",
       "      <th>EstimatedSalary</th>\n",
       "      <th>Exited</th>\n",
       "    </tr>\n",
       "  </thead>\n",
       "  <tbody>\n",
       "    <tr>\n",
       "      <th>count</th>\n",
       "      <td>1.650340e+05</td>\n",
       "      <td>165034.000000</td>\n",
       "      <td>165034.000000</td>\n",
       "      <td>165034.000000</td>\n",
       "      <td>165034.000000</td>\n",
       "      <td>165034.000000</td>\n",
       "      <td>165034.000000</td>\n",
       "      <td>165034.000000</td>\n",
       "      <td>165034.000000</td>\n",
       "      <td>165034.000000</td>\n",
       "    </tr>\n",
       "    <tr>\n",
       "      <th>mean</th>\n",
       "      <td>1.569201e+07</td>\n",
       "      <td>656.454373</td>\n",
       "      <td>38.125888</td>\n",
       "      <td>5.020353</td>\n",
       "      <td>55478.086689</td>\n",
       "      <td>1.554455</td>\n",
       "      <td>0.753954</td>\n",
       "      <td>0.497770</td>\n",
       "      <td>112574.822734</td>\n",
       "      <td>0.211599</td>\n",
       "    </tr>\n",
       "    <tr>\n",
       "      <th>std</th>\n",
       "      <td>7.139782e+04</td>\n",
       "      <td>80.103340</td>\n",
       "      <td>8.867205</td>\n",
       "      <td>2.806159</td>\n",
       "      <td>62817.663278</td>\n",
       "      <td>0.547154</td>\n",
       "      <td>0.430707</td>\n",
       "      <td>0.499997</td>\n",
       "      <td>50292.865585</td>\n",
       "      <td>0.408443</td>\n",
       "    </tr>\n",
       "    <tr>\n",
       "      <th>min</th>\n",
       "      <td>1.556570e+07</td>\n",
       "      <td>350.000000</td>\n",
       "      <td>18.000000</td>\n",
       "      <td>0.000000</td>\n",
       "      <td>0.000000</td>\n",
       "      <td>1.000000</td>\n",
       "      <td>0.000000</td>\n",
       "      <td>0.000000</td>\n",
       "      <td>11.580000</td>\n",
       "      <td>0.000000</td>\n",
       "    </tr>\n",
       "    <tr>\n",
       "      <th>25%</th>\n",
       "      <td>1.563314e+07</td>\n",
       "      <td>597.000000</td>\n",
       "      <td>32.000000</td>\n",
       "      <td>3.000000</td>\n",
       "      <td>0.000000</td>\n",
       "      <td>1.000000</td>\n",
       "      <td>1.000000</td>\n",
       "      <td>0.000000</td>\n",
       "      <td>74637.570000</td>\n",
       "      <td>0.000000</td>\n",
       "    </tr>\n",
       "    <tr>\n",
       "      <th>50%</th>\n",
       "      <td>1.569017e+07</td>\n",
       "      <td>659.000000</td>\n",
       "      <td>37.000000</td>\n",
       "      <td>5.000000</td>\n",
       "      <td>0.000000</td>\n",
       "      <td>2.000000</td>\n",
       "      <td>1.000000</td>\n",
       "      <td>0.000000</td>\n",
       "      <td>117948.000000</td>\n",
       "      <td>0.000000</td>\n",
       "    </tr>\n",
       "    <tr>\n",
       "      <th>75%</th>\n",
       "      <td>1.575682e+07</td>\n",
       "      <td>710.000000</td>\n",
       "      <td>42.000000</td>\n",
       "      <td>7.000000</td>\n",
       "      <td>119939.517500</td>\n",
       "      <td>2.000000</td>\n",
       "      <td>1.000000</td>\n",
       "      <td>1.000000</td>\n",
       "      <td>155152.467500</td>\n",
       "      <td>0.000000</td>\n",
       "    </tr>\n",
       "    <tr>\n",
       "      <th>max</th>\n",
       "      <td>1.581569e+07</td>\n",
       "      <td>850.000000</td>\n",
       "      <td>92.000000</td>\n",
       "      <td>10.000000</td>\n",
       "      <td>250898.090000</td>\n",
       "      <td>4.000000</td>\n",
       "      <td>1.000000</td>\n",
       "      <td>1.000000</td>\n",
       "      <td>199992.480000</td>\n",
       "      <td>1.000000</td>\n",
       "    </tr>\n",
       "  </tbody>\n",
       "</table>\n",
       "</div>"
      ],
      "text/plain": [
       "         CustomerId    CreditScore            Age         Tenure  \\\n",
       "count  1.650340e+05  165034.000000  165034.000000  165034.000000   \n",
       "mean   1.569201e+07     656.454373      38.125888       5.020353   \n",
       "std    7.139782e+04      80.103340       8.867205       2.806159   \n",
       "min    1.556570e+07     350.000000      18.000000       0.000000   \n",
       "25%    1.563314e+07     597.000000      32.000000       3.000000   \n",
       "50%    1.569017e+07     659.000000      37.000000       5.000000   \n",
       "75%    1.575682e+07     710.000000      42.000000       7.000000   \n",
       "max    1.581569e+07     850.000000      92.000000      10.000000   \n",
       "\n",
       "             Balance  NumOfProducts      HasCrCard  IsActiveMember  \\\n",
       "count  165034.000000  165034.000000  165034.000000   165034.000000   \n",
       "mean    55478.086689       1.554455       0.753954        0.497770   \n",
       "std     62817.663278       0.547154       0.430707        0.499997   \n",
       "min         0.000000       1.000000       0.000000        0.000000   \n",
       "25%         0.000000       1.000000       1.000000        0.000000   \n",
       "50%         0.000000       2.000000       1.000000        0.000000   \n",
       "75%    119939.517500       2.000000       1.000000        1.000000   \n",
       "max    250898.090000       4.000000       1.000000        1.000000   \n",
       "\n",
       "       EstimatedSalary         Exited  \n",
       "count    165034.000000  165034.000000  \n",
       "mean     112574.822734       0.211599  \n",
       "std       50292.865585       0.408443  \n",
       "min          11.580000       0.000000  \n",
       "25%       74637.570000       0.000000  \n",
       "50%      117948.000000       0.000000  \n",
       "75%      155152.467500       0.000000  \n",
       "max      199992.480000       1.000000  "
      ]
     },
     "execution_count": 9,
     "metadata": {},
     "output_type": "execute_result"
    }
   ],
   "source": [
    "df_train.describe()"
   ]
  },
  {
   "cell_type": "code",
   "execution_count": 10,
   "id": "1b5784bb",
   "metadata": {
    "execution": {
     "iopub.execute_input": "2024-01-28T16:31:22.370090Z",
     "iopub.status.busy": "2024-01-28T16:31:22.369772Z",
     "iopub.status.idle": "2024-01-28T16:31:22.421345Z",
     "shell.execute_reply": "2024-01-28T16:31:22.420569Z"
    },
    "papermill": {
     "duration": 0.077742,
     "end_time": "2024-01-28T16:31:22.423201",
     "exception": false,
     "start_time": "2024-01-28T16:31:22.345459",
     "status": "completed"
    },
    "tags": []
   },
   "outputs": [
    {
     "data": {
      "text/plain": [
       "CustomerId         0\n",
       "Surname            0\n",
       "CreditScore        0\n",
       "Geography          0\n",
       "Gender             0\n",
       "Age                0\n",
       "Tenure             0\n",
       "Balance            0\n",
       "NumOfProducts      0\n",
       "HasCrCard          0\n",
       "IsActiveMember     0\n",
       "EstimatedSalary    0\n",
       "Exited             0\n",
       "dtype: int64"
      ]
     },
     "execution_count": 10,
     "metadata": {},
     "output_type": "execute_result"
    }
   ],
   "source": [
    "df_train.isna().sum()"
   ]
  },
  {
   "cell_type": "code",
   "execution_count": 11,
   "id": "2aac6cf0",
   "metadata": {
    "execution": {
     "iopub.execute_input": "2024-01-28T16:31:22.470820Z",
     "iopub.status.busy": "2024-01-28T16:31:22.470479Z",
     "iopub.status.idle": "2024-01-28T16:31:22.540729Z",
     "shell.execute_reply": "2024-01-28T16:31:22.539861Z"
    },
    "papermill": {
     "duration": 0.097256,
     "end_time": "2024-01-28T16:31:22.542839",
     "exception": false,
     "start_time": "2024-01-28T16:31:22.445583",
     "status": "completed"
    },
    "tags": []
   },
   "outputs": [
    {
     "data": {
      "text/plain": [
       "CustomerId         23221\n",
       "Surname             2797\n",
       "CreditScore          457\n",
       "Geography              3\n",
       "Gender                 2\n",
       "Age                   71\n",
       "Tenure                11\n",
       "Balance            30075\n",
       "NumOfProducts          4\n",
       "HasCrCard              2\n",
       "IsActiveMember         2\n",
       "EstimatedSalary    55298\n",
       "Exited                 2\n",
       "dtype: int64"
      ]
     },
     "execution_count": 11,
     "metadata": {},
     "output_type": "execute_result"
    }
   ],
   "source": [
    "df_train.nunique()"
   ]
  },
  {
   "cell_type": "code",
   "execution_count": 12,
   "id": "4dfd37ac",
   "metadata": {
    "execution": {
     "iopub.execute_input": "2024-01-28T16:31:22.589778Z",
     "iopub.status.busy": "2024-01-28T16:31:22.589500Z",
     "iopub.status.idle": "2024-01-28T16:31:22.656146Z",
     "shell.execute_reply": "2024-01-28T16:31:22.655366Z"
    },
    "papermill": {
     "duration": 0.092106,
     "end_time": "2024-01-28T16:31:22.658069",
     "exception": false,
     "start_time": "2024-01-28T16:31:22.565963",
     "status": "completed"
    },
    "tags": []
   },
   "outputs": [
    {
     "data": {
      "text/plain": [
       "CustomerId         [15674932, 15749177, 15694510, 15741417, 15766...\n",
       "Surname            [Okwudilichukwu, Okwudiliolisa, Hsueh, Kao, Ch...\n",
       "CreditScore        [668, 627, 678, 581, 716, 588, 593, 676, 583, ...\n",
       "Geography                                   [France, Spain, Germany]\n",
       "Gender                                                [Male, Female]\n",
       "Age                [33.0, 40.0, 34.0, 36.0, 30.0, 37.0, 43.0, 27....\n",
       "Tenure                            [3, 1, 10, 2, 5, 4, 8, 6, 9, 7, 0]\n",
       "Balance            [0.0, 148882.54, 131778.58, 144772.69, 138476....\n",
       "NumOfProducts                                           [2, 1, 3, 4]\n",
       "HasCrCard                                                 [1.0, 0.0]\n",
       "IsActiveMember                                            [0.0, 1.0]\n",
       "EstimatedSalary    [181449.97, 49503.5, 184866.69, 84560.88, 1506...\n",
       "Exited                                                        [0, 1]\n",
       "dtype: object"
      ]
     },
     "execution_count": 12,
     "metadata": {},
     "output_type": "execute_result"
    }
   ],
   "source": [
    "df_train.apply(pd.unique)"
   ]
  },
  {
   "cell_type": "code",
   "execution_count": 13,
   "id": "75c46069",
   "metadata": {
    "execution": {
     "iopub.execute_input": "2024-01-28T16:31:22.705722Z",
     "iopub.status.busy": "2024-01-28T16:31:22.705241Z",
     "iopub.status.idle": "2024-01-28T16:31:22.793006Z",
     "shell.execute_reply": "2024-01-28T16:31:22.792153Z"
    },
    "papermill": {
     "duration": 0.114184,
     "end_time": "2024-01-28T16:31:22.795121",
     "exception": false,
     "start_time": "2024-01-28T16:31:22.680937",
     "status": "completed"
    },
    "tags": []
   },
   "outputs": [
    {
     "data": {
      "text/plain": [
       "0"
      ]
     },
     "execution_count": 13,
     "metadata": {},
     "output_type": "execute_result"
    }
   ],
   "source": [
    "df_train.duplicated().sum()   # No duplicates"
   ]
  },
  {
   "cell_type": "markdown",
   "id": "c2beb268",
   "metadata": {
    "papermill": {
     "duration": 0.022532,
     "end_time": "2024-01-28T16:31:22.840914",
     "exception": false,
     "start_time": "2024-01-28T16:31:22.818382",
     "status": "completed"
    },
    "tags": []
   },
   "source": [
    "## EDA"
   ]
  },
  {
   "cell_type": "code",
   "execution_count": 14,
   "id": "b618ca23",
   "metadata": {
    "execution": {
     "iopub.execute_input": "2024-01-28T16:31:22.887728Z",
     "iopub.status.busy": "2024-01-28T16:31:22.887431Z",
     "iopub.status.idle": "2024-01-28T16:31:22.900963Z",
     "shell.execute_reply": "2024-01-28T16:31:22.900297Z"
    },
    "papermill": {
     "duration": 0.0393,
     "end_time": "2024-01-28T16:31:22.902925",
     "exception": false,
     "start_time": "2024-01-28T16:31:22.863625",
     "status": "completed"
    },
    "tags": []
   },
   "outputs": [],
   "source": [
    "num_cols = df_train.select_dtypes(include=np.number).columns\n",
    "cat_cols = df_train.select_dtypes(include='O').columns"
   ]
  },
  {
   "cell_type": "code",
   "execution_count": 15,
   "id": "d0f3aa60",
   "metadata": {
    "execution": {
     "iopub.execute_input": "2024-01-28T16:31:22.949266Z",
     "iopub.status.busy": "2024-01-28T16:31:22.948993Z",
     "iopub.status.idle": "2024-01-28T16:31:23.914407Z",
     "shell.execute_reply": "2024-01-28T16:31:23.913675Z"
    },
    "papermill": {
     "duration": 0.991052,
     "end_time": "2024-01-28T16:31:23.916738",
     "exception": false,
     "start_time": "2024-01-28T16:31:22.925686",
     "status": "completed"
    },
    "tags": []
   },
   "outputs": [
    {
     "name": "stderr",
     "output_type": "stream",
     "text": [
      "/opt/conda/lib/python3.10/site-packages/scipy/__init__.py:146: UserWarning: A NumPy version >=1.16.5 and <1.23.0 is required for this version of SciPy (detected version 1.24.3\n",
      "  warnings.warn(f\"A NumPy version >={np_minversion} and <{np_maxversion}\"\n"
     ]
    }
   ],
   "source": [
    "import matplotlib.pyplot as plt\n",
    "import seaborn as sns"
   ]
  },
  {
   "cell_type": "code",
   "execution_count": 16,
   "id": "e7441f4c",
   "metadata": {
    "execution": {
     "iopub.execute_input": "2024-01-28T16:31:23.964800Z",
     "iopub.status.busy": "2024-01-28T16:31:23.964517Z",
     "iopub.status.idle": "2024-01-28T16:31:26.140451Z",
     "shell.execute_reply": "2024-01-28T16:31:26.139488Z"
    },
    "papermill": {
     "duration": 2.202342,
     "end_time": "2024-01-28T16:31:26.143099",
     "exception": false,
     "start_time": "2024-01-28T16:31:23.940757",
     "status": "completed"
    },
    "tags": []
   },
   "outputs": [
    {
     "data": {
      "image/png": "[encoded data removed]",
      "text/plain": [
       "<Figure size 1300x800 with 12 Axes>"
      ]
     },
     "metadata": {},
     "output_type": "display_data"
    }
   ],
   "source": [
    "n = len(num_cols)\n",
    "n_cols =  3\n",
    "n_rows = n // n_cols + 1\n",
    "\n",
    "fig, ax = plt.subplots(n_rows, n_cols, figsize=(13,8))\n",
    "for i in range(n):\n",
    "    r = i // n_cols\n",
    "    c = i % n_cols\n",
    "    col_name = num_cols[i]\n",
    "    ax[r,c].hist(df_train[col_name])\n",
    "    ax[r,c].set_title(col_name)\n",
    "    \n",
    "plt.tight_layout()        \n",
    "plt.show()"
   ]
  },
  {
   "cell_type": "code",
   "execution_count": 17,
   "id": "af232b14",
   "metadata": {
    "execution": {
     "iopub.execute_input": "2024-01-28T16:31:26.192608Z",
     "iopub.status.busy": "2024-01-28T16:31:26.192043Z",
     "iopub.status.idle": "2024-01-28T16:31:26.889620Z",
     "shell.execute_reply": "2024-01-28T16:31:26.888762Z"
    },
    "papermill": {
     "duration": 0.725025,
     "end_time": "2024-01-28T16:31:26.892333",
     "exception": false,
     "start_time": "2024-01-28T16:31:26.167308",
     "status": "completed"
    },
    "tags": []
   },
   "outputs": [
    {
     "data": {
      "text/plain": [
       "<Axes: >"
      ]
     },
     "execution_count": 17,
     "metadata": {},
     "output_type": "execute_result"
    },
    {
     "data": {
      "image/png": "[encoded data removed]",
      "text/plain": [
       "<Figure size 640x480 with 2 Axes>"
      ]
     },
     "metadata": {},
     "output_type": "display_data"
    }
   ],
   "source": [
    "sns.heatmap(df_train[num_cols].corr(), vmin=-1, vmax=1, annot=True, cmap='coolwarm', fmt='.2f')"
   ]
  },
  {
   "cell_type": "code",
   "execution_count": 18,
   "id": "080da5b9",
   "metadata": {
    "execution": {
     "iopub.execute_input": "2024-01-28T16:31:26.944490Z",
     "iopub.status.busy": "2024-01-28T16:31:26.944177Z",
     "iopub.status.idle": "2024-01-28T16:31:46.000223Z",
     "shell.execute_reply": "2024-01-28T16:31:45.999285Z"
    },
    "papermill": {
     "duration": 19.084647,
     "end_time": "2024-01-28T16:31:46.002419",
     "exception": false,
     "start_time": "2024-01-28T16:31:26.917772",
     "status": "completed"
    },
    "tags": []
   },
   "outputs": [
    {
     "data": {
      "image/png": "[encoded data removed]",
      "text/plain": [
       "<Figure size 640x480 with 1 Axes>"
      ]
     },
     "metadata": {},
     "output_type": "display_data"
    },
    {
     "data": {
      "image/png": "[encoded data removed]",
      "text/plain": [
       "<Figure size 640x480 with 1 Axes>"
      ]
     },
     "metadata": {},
     "output_type": "display_data"
    },
    {
     "data": {
      "image/png": "[encoded data removed]",
      "text/plain": [
       "<Figure size 640x480 with 1 Axes>"
      ]
     },
     "metadata": {},
     "output_type": "display_data"
    }
   ],
   "source": [
    "for col in cat_cols:\n",
    "    df_train[col].value_counts().plot(kind='bar', title=col)\n",
    "    plt.show()"
   ]
  },
  {
   "cell_type": "code",
   "execution_count": 19,
   "id": "92d8da55",
   "metadata": {
    "execution": {
     "iopub.execute_input": "2024-01-28T16:31:46.058906Z",
     "iopub.status.busy": "2024-01-28T16:31:46.058050Z",
     "iopub.status.idle": "2024-01-28T16:31:46.095698Z",
     "shell.execute_reply": "2024-01-28T16:31:46.094677Z"
    },
    "papermill": {
     "duration": 0.067617,
     "end_time": "2024-01-28T16:31:46.097584",
     "exception": false,
     "start_time": "2024-01-28T16:31:46.029967",
     "status": "completed"
    },
    "tags": []
   },
   "outputs": [
    {
     "name": "stdout",
     "output_type": "stream",
     "text": [
      "Gender  Exited\n",
      "Female  0         31.374747\n",
      "        1         12.182338\n",
      "Male    0         47.465371\n",
      "        1          8.977544\n",
      "Name: count, dtype: float64\n"
     ]
    }
   ],
   "source": [
    "gender_vs_exited_per = df_train.groupby(['Gender'],)['Exited'].value_counts()/df_train.shape[0]*100     \n",
    "print(gender_vs_exited_per)            \n",
    "# Only 12% of women and 9% of men closed their accounts\n",
    "# percentage of men keeping their accounts is greater than that of women"
   ]
  },
  {
   "cell_type": "code",
   "execution_count": 20,
   "id": "932d46d4",
   "metadata": {
    "execution": {
     "iopub.execute_input": "2024-01-28T16:31:46.153206Z",
     "iopub.status.busy": "2024-01-28T16:31:46.152890Z",
     "iopub.status.idle": "2024-01-28T16:31:46.181205Z",
     "shell.execute_reply": "2024-01-28T16:31:46.180275Z"
    },
    "papermill": {
     "duration": 0.058607,
     "end_time": "2024-01-28T16:31:46.183161",
     "exception": false,
     "start_time": "2024-01-28T16:31:46.124554",
     "status": "completed"
    },
    "tags": []
   },
   "outputs": [
    {
     "data": {
      "text/plain": [
       "Geography  Exited\n",
       "France     0         47.652605\n",
       "           1          9.435631\n",
       "Germany    0         13.022771\n",
       "           1          7.946241\n",
       "Spain      0         18.164742\n",
       "           1          3.778009\n",
       "Name: count, dtype: float64"
      ]
     },
     "execution_count": 20,
     "metadata": {},
     "output_type": "execute_result"
    }
   ],
   "source": [
    "geo_vs_exited_per = df_train.groupby(['Geography'],)['Exited'].value_counts()/df_train.shape[0]*100 \n",
    "geo_vs_exited_per\n",
    "\n",
    "# Most of account in France are kept using (48%)\n",
    "# Spain has the lowest percentage of closed accounts"
   ]
  },
  {
   "cell_type": "code",
   "execution_count": 21,
   "id": "d066d38b",
   "metadata": {
    "execution": {
     "iopub.execute_input": "2024-01-28T16:31:46.239571Z",
     "iopub.status.busy": "2024-01-28T16:31:46.239264Z",
     "iopub.status.idle": "2024-01-28T16:31:46.273187Z",
     "shell.execute_reply": "2024-01-28T16:31:46.272228Z"
    },
    "papermill": {
     "duration": 0.06433,
     "end_time": "2024-01-28T16:31:46.275103",
     "exception": false,
     "start_time": "2024-01-28T16:31:46.210773",
     "status": "completed"
    },
    "tags": []
   },
   "outputs": [
    {
     "data": {
      "text/plain": [
       "Surname\n",
       "Hsia        2456\n",
       "T'ien       2282\n",
       "Hs?         1611\n",
       "Kao         1577\n",
       "Maclean     1577\n",
       "Ts'ui       1567\n",
       "P'eng       1503\n",
       "H?          1420\n",
       "Hsueh       1306\n",
       "Shih        1251\n",
       "Ch'ang      1229\n",
       "Ch'iu       1199\n",
       "Mazzanti    1192\n",
       "Tuan        1164\n",
       "Fanucci     1139\n",
       "Name: count, dtype: int64"
      ]
     },
     "execution_count": 21,
     "metadata": {},
     "output_type": "execute_result"
    }
   ],
   "source": [
    "df_train['Surname'].value_counts().nlargest(15)"
   ]
  },
  {
   "cell_type": "code",
   "execution_count": 22,
   "id": "08322509",
   "metadata": {
    "execution": {
     "iopub.execute_input": "2024-01-28T16:31:46.332980Z",
     "iopub.status.busy": "2024-01-28T16:31:46.332637Z",
     "iopub.status.idle": "2024-01-28T16:31:47.332780Z",
     "shell.execute_reply": "2024-01-28T16:31:47.331846Z"
    },
    "papermill": {
     "duration": 1.030546,
     "end_time": "2024-01-28T16:31:47.334771",
     "exception": false,
     "start_time": "2024-01-28T16:31:46.304225",
     "status": "completed"
    },
    "tags": []
   },
   "outputs": [
    {
     "data": {
      "image/png": "[encoded data removed]",
      "text/plain": [
       "<Figure size 1200x500 with 2 Axes>"
      ]
     },
     "metadata": {},
     "output_type": "display_data"
    }
   ],
   "source": [
    "surname_len = df_train['Surname'].str.len()\n",
    "fig, ax = plt.subplots(1, 2, figsize=(12,5))\n",
    "sns.scatterplot(x=surname_len, y=df_train['Exited'], alpha=0.5, axes=ax[1])\n",
    "ax[0].hist(surname_len)\n",
    "ax[0].set_title('Distribution of Surname Length')\n",
    "ax[1].set_title('Exited vs. Surname Length')\n",
    "plt.tight_layout()\n",
    "plt.show()"
   ]
  },
  {
   "cell_type": "code",
   "execution_count": 23,
   "id": "6c370584",
   "metadata": {
    "execution": {
     "iopub.execute_input": "2024-01-28T16:31:47.392327Z",
     "iopub.status.busy": "2024-01-28T16:31:47.391984Z",
     "iopub.status.idle": "2024-01-28T16:31:47.400602Z",
     "shell.execute_reply": "2024-01-28T16:31:47.399724Z"
    },
    "papermill": {
     "duration": 0.039864,
     "end_time": "2024-01-28T16:31:47.402580",
     "exception": false,
     "start_time": "2024-01-28T16:31:47.362716",
     "status": "completed"
    },
    "tags": []
   },
   "outputs": [
    {
     "data": {
      "text/plain": [
       "array([[1.        , 0.00482154],\n",
       "       [0.00482154, 1.        ]])"
      ]
     },
     "execution_count": 23,
     "metadata": {},
     "output_type": "execute_result"
    }
   ],
   "source": [
    "np.corrcoef(surname_len, df_train['Exited'])"
   ]
  },
  {
   "cell_type": "code",
   "execution_count": 24,
   "id": "d8451c64",
   "metadata": {
    "execution": {
     "iopub.execute_input": "2024-01-28T16:31:47.459239Z",
     "iopub.status.busy": "2024-01-28T16:31:47.458956Z",
     "iopub.status.idle": "2024-01-28T16:31:47.714173Z",
     "shell.execute_reply": "2024-01-28T16:31:47.713259Z"
    },
    "papermill": {
     "duration": 0.28612,
     "end_time": "2024-01-28T16:31:47.716284",
     "exception": false,
     "start_time": "2024-01-28T16:31:47.430164",
     "status": "completed"
    },
    "tags": []
   },
   "outputs": [
    {
     "data": {
      "text/plain": [
       "<Axes: >"
      ]
     },
     "execution_count": 24,
     "metadata": {},
     "output_type": "execute_result"
    },
    {
     "data": {
      "image/png": "[encoded data removed]",
      "text/plain": [
       "<Figure size 640x480 with 1 Axes>"
      ]
     },
     "metadata": {},
     "output_type": "display_data"
    }
   ],
   "source": [
    "np.sqrt(surname_len).hist() # Distribution of the square root of surname length look more normalb"
   ]
  },
  {
   "cell_type": "code",
   "execution_count": 25,
   "id": "3b455901",
   "metadata": {
    "execution": {
     "iopub.execute_input": "2024-01-28T16:31:47.774999Z",
     "iopub.status.busy": "2024-01-28T16:31:47.774686Z",
     "iopub.status.idle": "2024-01-28T16:31:48.033410Z",
     "shell.execute_reply": "2024-01-28T16:31:48.032509Z"
    },
    "papermill": {
     "duration": 0.289657,
     "end_time": "2024-01-28T16:31:48.035445",
     "exception": false,
     "start_time": "2024-01-28T16:31:47.745788",
     "status": "completed"
    },
    "tags": []
   },
   "outputs": [
    {
     "data": {
      "text/plain": [
       "<Axes: >"
      ]
     },
     "execution_count": 25,
     "metadata": {},
     "output_type": "execute_result"
    },
    {
     "data": {
      "image/png": "[encoded data removed]",
      "text/plain": [
       "<Figure size 640x480 with 1 Axes>"
      ]
     },
     "metadata": {},
     "output_type": "display_data"
    }
   ],
   "source": [
    "np.log(df_train['Balance'] + 1).hist()"
   ]
  },
  {
   "cell_type": "code",
   "execution_count": 26,
   "id": "ba06b401",
   "metadata": {
    "execution": {
     "iopub.execute_input": "2024-01-28T16:31:48.094077Z",
     "iopub.status.busy": "2024-01-28T16:31:48.093767Z",
     "iopub.status.idle": "2024-01-28T16:31:48.128296Z",
     "shell.execute_reply": "2024-01-28T16:31:48.127014Z"
    },
    "papermill": {
     "duration": 0.066294,
     "end_time": "2024-01-28T16:31:48.130296",
     "exception": false,
     "start_time": "2024-01-28T16:31:48.064002",
     "status": "completed"
    },
    "tags": []
   },
   "outputs": [
    {
     "name": "stdout",
     "output_type": "stream",
     "text": [
      "Has Balance\n",
      "Exited\n",
      "0    72.900804\n",
      "1    27.099196\n",
      "Name: proportion, dtype: float64\n",
      "-----------------\n",
      "Has No Balance\n",
      "Exited\n",
      "0    83.834553\n",
      "1    16.165447\n",
      "Name: proportion, dtype: float64\n"
     ]
    }
   ],
   "source": [
    "hasBalance = df_train.query('Balance != 0')\n",
    "noBalance = df_train.query('Balance == 0')\n",
    "print(\"Has Balance\")\n",
    "print(hasBalance.Exited.value_counts(normalize=True)*100)\n",
    "print('-----------------')\n",
    "print('Has No Balance')\n",
    "print(noBalance.Exited.value_counts(normalize=True)*100)"
   ]
  },
  {
   "cell_type": "markdown",
   "id": "f1610ae2",
   "metadata": {
    "papermill": {
     "duration": 0.028343,
     "end_time": "2024-01-28T16:31:48.188175",
     "exception": false,
     "start_time": "2024-01-28T16:31:48.159832",
     "status": "completed"
    },
    "tags": []
   },
   "source": [
    "## Preprocessing"
   ]
  },
  {
   "cell_type": "code",
   "execution_count": 27,
   "id": "e1b72334",
   "metadata": {
    "execution": {
     "iopub.execute_input": "2024-01-28T16:31:48.246251Z",
     "iopub.status.busy": "2024-01-28T16:31:48.245956Z",
     "iopub.status.idle": "2024-01-28T16:31:48.452234Z",
     "shell.execute_reply": "2024-01-28T16:31:48.451378Z"
    },
    "papermill": {
     "duration": 0.2377,
     "end_time": "2024-01-28T16:31:48.454600",
     "exception": false,
     "start_time": "2024-01-28T16:31:48.216900",
     "status": "completed"
    },
    "tags": []
   },
   "outputs": [],
   "source": [
    "from sklearn.preprocessing import OneHotEncoder, StandardScaler\n",
    "from sklearn.model_selection import train_test_split\n",
    "\n",
    "seed = 42"
   ]
  },
  {
   "cell_type": "code",
   "execution_count": 28,
   "id": "70068a8c",
   "metadata": {
    "execution": {
     "iopub.execute_input": "2024-01-28T16:31:48.514346Z",
     "iopub.status.busy": "2024-01-28T16:31:48.514008Z",
     "iopub.status.idle": "2024-01-28T16:31:48.522699Z",
     "shell.execute_reply": "2024-01-28T16:31:48.521844Z"
    },
    "papermill": {
     "duration": 0.040859,
     "end_time": "2024-01-28T16:31:48.524647",
     "exception": false,
     "start_time": "2024-01-28T16:31:48.483788",
     "status": "completed"
    },
    "tags": []
   },
   "outputs": [],
   "source": [
    "def scale_and_encode(df_train, df_test):\n",
    "    num_cols = [col for col in df_train.select_dtypes(include=np.number).columns if df_train[col].nunique() != 2]\n",
    "    cat_cols = df_train.select_dtypes(include='O').columns\n",
    "    \n",
    "    encoder = OneHotEncoder(handle_unknown='ignore')\n",
    "    scaler = StandardScaler()\n",
    "    \n",
    "    df_train_scaled = df_train.copy()\n",
    "    df_test_scaled = df_test.copy()\n",
    "    \n",
    "    # scaling the numerical variables but not binary variables\n",
    "    df_train_scaled[num_cols] = scaler.fit_transform(df_train_scaled[num_cols])\n",
    "    df_test_scaled[num_cols]  = scaler.transform(df_test_scaled[num_cols])\n",
    "\n",
    "    # encoding the categorical data\n",
    "    df_train_cat_scaled = encoder.fit_transform(df_train_scaled[cat_cols])\n",
    "    df_test_cat_scaled = encoder.transform(df_test_scaled[cat_cols])\n",
    "\n",
    "    df_train_cat_scaled_df = pd.DataFrame(df_train_cat_scaled.toarray(), columns=encoder.get_feature_names_out(), index=df_train.index)\n",
    "    df_test_cat_scaled_df = pd.DataFrame(df_test_cat_scaled.toarray(), columns=encoder.get_feature_names_out(), index=df_test.index)\n",
    "    \n",
    "    # Combine OneHotEncoding data with the entire data\n",
    "    df_train_scaled = pd.concat([df_train_scaled, df_train_cat_scaled_df], axis=1).drop(columns=cat_cols)\n",
    "    df_test_scaled = pd.concat([df_test_scaled, df_test_cat_scaled_df], axis=1).drop(columns=cat_cols)\n",
    "    \n",
    "    return df_train_scaled, df_test_scaled"
   ]
  },
  {
   "cell_type": "code",
   "execution_count": 29,
   "id": "e47fe277",
   "metadata": {
    "execution": {
     "iopub.execute_input": "2024-01-28T16:31:48.583880Z",
     "iopub.status.busy": "2024-01-28T16:31:48.583526Z",
     "iopub.status.idle": "2024-01-28T16:31:48.866673Z",
     "shell.execute_reply": "2024-01-28T16:31:48.865844Z"
    },
    "papermill": {
     "duration": 0.315949,
     "end_time": "2024-01-28T16:31:48.869097",
     "exception": false,
     "start_time": "2024-01-28T16:31:48.553148",
     "status": "completed"
    },
    "tags": []
   },
   "outputs": [],
   "source": [
    "X = df_train.drop(columns=['CustomerId', 'Surname', 'Exited'])\n",
    "y = df_train['Exited'].values\n",
    "\n",
    "\n",
    "X_train, X_val, y_train, y_val = train_test_split(X, y, stratify=y, random_state=seed)\n",
    "\n",
    "X_train_scaled, X_val_scaled = scale_and_encode(X_train, X_val)"
   ]
  },
  {
   "cell_type": "markdown",
   "id": "30ca7f0f",
   "metadata": {
    "papermill": {
     "duration": 0.028486,
     "end_time": "2024-01-28T16:31:48.927198",
     "exception": false,
     "start_time": "2024-01-28T16:31:48.898712",
     "status": "completed"
    },
    "tags": []
   },
   "source": [
    "## Baseline Models"
   ]
  },
  {
   "cell_type": "code",
   "execution_count": 30,
   "id": "62f170b7",
   "metadata": {
    "execution": {
     "iopub.execute_input": "2024-01-28T16:31:48.985478Z",
     "iopub.status.busy": "2024-01-28T16:31:48.985132Z",
     "iopub.status.idle": "2024-01-28T16:31:52.867632Z",
     "shell.execute_reply": "2024-01-28T16:31:52.866860Z"
    },
    "papermill": {
     "duration": 3.914537,
     "end_time": "2024-01-28T16:31:52.869873",
     "exception": false,
     "start_time": "2024-01-28T16:31:48.955336",
     "status": "completed"
    },
    "tags": []
   },
   "outputs": [
    {
     "name": "stderr",
     "output_type": "stream",
     "text": [
      "/opt/conda/lib/python3.10/site-packages/dask/dataframe/_pyarrow_compat.py:23: UserWarning: You are using pyarrow version 11.0.0 which is known to be insecure. See https://www.cve.org/CVERecord?id=CVE-2023-47248 for further details. Please upgrade to pyarrow>=14.0.1 or install pyarrow-hotfix to patch your current version.\n",
      "  warnings.warn(\n"
     ]
    }
   ],
   "source": [
    "from sklearn.linear_model import LogisticRegression\n",
    "from sklearn.svm import SVC\n",
    "from sklearn.neighbors import KNeighborsClassifier\n",
    "from sklearn.ensemble import RandomForestClassifier, GradientBoostingClassifier, AdaBoostClassifier\n",
    "from sklearn.naive_bayes import GaussianNB\n",
    "from xgboost import XGBClassifier\n",
    "from lightgbm import LGBMClassifier\n",
    "from catboost import CatBoostClassifier\n",
    "\n",
    "from sklearn.model_selection import cross_val_score\n",
    "from sklearn.metrics import roc_auc_score"
   ]
  },
  {
   "cell_type": "code",
   "execution_count": 31,
   "id": "3d92eb05",
   "metadata": {
    "execution": {
     "iopub.execute_input": "2024-01-28T16:31:52.929913Z",
     "iopub.status.busy": "2024-01-28T16:31:52.929608Z",
     "iopub.status.idle": "2024-01-28T16:31:52.936871Z",
     "shell.execute_reply": "2024-01-28T16:31:52.936050Z"
    },
    "papermill": {
     "duration": 0.039703,
     "end_time": "2024-01-28T16:31:52.938864",
     "exception": false,
     "start_time": "2024-01-28T16:31:52.899161",
     "status": "completed"
    },
    "tags": []
   },
   "outputs": [],
   "source": [
    "def cross_val_performance(model_list, x_train=X_train_scaled, y_train=y_train, scoring='roc_auc', verbose=True):\n",
    "    model_names = []\n",
    "    avg_scores = []\n",
    "    std_scores = []\n",
    "    for model_name, model_obj in model_list:\n",
    "        scores = cross_val_score(model_obj, x_train, y_train, cv=5, scoring=scoring)\n",
    "        avg_score = np.mean(scores)\n",
    "        std_score = np.std(scores)\n",
    "        \n",
    "        if verbose:\n",
    "            print(f'>>>{model_name.upper()}:')\n",
    "            print(f'5-fold scores: {scores}')        \n",
    "            print(f'Average AUC: {avg_score} --- St dev: {std_score}')\n",
    "            print('-'*60)        \n",
    "            \n",
    "        model_names.append(model_name)\n",
    "        avg_scores.append(avg_score)\n",
    "        std_scores.append(std_score)\n",
    "        \n",
    "    ordered_scores_df = pd.DataFrame({'Model':model_names, 'Avg_AUC':avg_scores, 'Std_AUC':std_scores}).sort_values(['Avg_AUC', 'Std_AUC'], ascending=False)\n",
    "    return ordered_scores_df\n"
   ]
  },
  {
   "cell_type": "code",
   "execution_count": 32,
   "id": "1ab66487",
   "metadata": {
    "execution": {
     "iopub.execute_input": "2024-01-28T16:31:52.997895Z",
     "iopub.status.busy": "2024-01-28T16:31:52.997577Z",
     "iopub.status.idle": "2024-01-28T16:31:53.003652Z",
     "shell.execute_reply": "2024-01-28T16:31:53.002740Z"
    },
    "papermill": {
     "duration": 0.038279,
     "end_time": "2024-01-28T16:31:53.005817",
     "exception": false,
     "start_time": "2024-01-28T16:31:52.967538",
     "status": "completed"
    },
    "tags": []
   },
   "outputs": [],
   "source": [
    "def scores_barplot(scores_df):\n",
    "    plt.figure(figsize=(13,7))\n",
    "    plt.subplot(121)\n",
    "    plt.bar(scores_df.Model, scores_df.Avg_AUC)\n",
    "    plt.xticks(rotation=45)\n",
    "    plt.title('Average of 5 ROC AUC Scores')\n",
    "    \n",
    "    plt.subplot(122)\n",
    "    plt.bar(scores_df.Model, scores_df.Std_AUC)\n",
    "    plt.xticks(rotation=45)\n",
    "    plt.title('Std. Dev of 5 ROC AUC Scores')\n",
    "    plt.tight_layout()\n",
    "    plt.show()"
   ]
  },
  {
   "cell_type": "code",
   "execution_count": 33,
   "id": "4bd5e397",
   "metadata": {
    "execution": {
     "iopub.execute_input": "2024-01-28T16:31:53.066467Z",
     "iopub.status.busy": "2024-01-28T16:31:53.065713Z",
     "iopub.status.idle": "2024-01-28T16:31:53.074496Z",
     "shell.execute_reply": "2024-01-28T16:31:53.073640Z"
    },
    "papermill": {
     "duration": 0.040967,
     "end_time": "2024-01-28T16:31:53.076591",
     "exception": false,
     "start_time": "2024-01-28T16:31:53.035624",
     "status": "completed"
    },
    "tags": []
   },
   "outputs": [],
   "source": [
    "\n",
    "models = [('logreg', LogisticRegression(random_state=seed)),\n",
    "          ('ada', AdaBoostClassifier(random_state=seed)),\n",
    "          ('knn', KNeighborsClassifier()),\n",
    "          ('rf', RandomForestClassifier(random_state=seed)),\n",
    "          ('gb', GradientBoostingClassifier(random_state=seed)),\n",
    "          ('gnb', GaussianNB()),\n",
    "          ('xgb', XGBClassifier(random_state=seed)),\n",
    "          ('lgb', LGBMClassifier(random_state=seed)),\n",
    "          ('cb', CatBoostClassifier(random_state=seed, verbose=False,))]"
   ]
  },
  {
   "cell_type": "code",
   "execution_count": 34,
   "id": "bd5e4bf8",
   "metadata": {
    "execution": {
     "iopub.execute_input": "2024-01-28T16:31:53.135514Z",
     "iopub.status.busy": "2024-01-28T16:31:53.134715Z",
     "iopub.status.idle": "2024-01-28T16:36:00.724481Z",
     "shell.execute_reply": "2024-01-28T16:36:00.723551Z"
    },
    "papermill": {
     "duration": 247.650792,
     "end_time": "2024-01-28T16:36:00.756043",
     "exception": false,
     "start_time": "2024-01-28T16:31:53.105251",
     "status": "completed"
    },
    "tags": []
   },
   "outputs": [
    {
     "name": "stdout",
     "output_type": "stream",
     "text": [
      ">>>LOGREG:\n",
      "5-fold scores: [0.82114335 0.81530293 0.81817209 0.81647576 0.82200233]\n",
      "Average AUC: 0.8186192897052604 --- St dev: 0.002592633874700136\n",
      "------------------------------------------------------------\n",
      ">>>ADA:\n",
      "5-fold scores: [0.87970606 0.8778693  0.879495   0.88218185 0.88192533]\n",
      "Average AUC: 0.8802355073905858 --- St dev: 0.0016168712514425811\n",
      "------------------------------------------------------------\n",
      ">>>KNN:\n",
      "5-fold scores: [0.8246981  0.82487564 0.82369861 0.83021057 0.82559417]\n",
      "Average AUC: 0.8258154191979166 --- St dev: 0.002279420107631253\n",
      "------------------------------------------------------------\n",
      ">>>RF:\n",
      "5-fold scores: [0.87159355 0.87080169 0.87124847 0.87654789 0.87386727]\n",
      "Average AUC: 0.8728117717707731 --- St dev: 0.002146675295072465\n",
      "------------------------------------------------------------\n",
      ">>>GB:\n",
      "5-fold scores: [0.88764829 0.8869513  0.8870892  0.89007375 0.89013098]\n",
      "Average AUC: 0.8883787025934934 --- St dev: 0.0014267059007764121\n",
      "------------------------------------------------------------\n",
      ">>>GNB:\n",
      "5-fold scores: [0.81005415 0.80892265 0.80714739 0.81451046 0.81627776]\n",
      "Average AUC: 0.8113824805418007 --- St dev: 0.0034496132585790868\n",
      "------------------------------------------------------------\n",
      ">>>XGB:\n",
      "5-fold scores: [0.88498586 0.88468889 0.88401874 0.88734584 0.88515668]\n",
      "Average AUC: 0.8852392009525099 --- St dev: 0.001122614895392893\n",
      "------------------------------------------------------------\n",
      ">>>LGB:\n",
      "5-fold scores: [0.88809886 0.88744182 0.88724619 0.89132576 0.88998258]\n",
      "Average AUC: 0.8888190409782639 --- St dev: 0.0015828268323048878\n",
      "------------------------------------------------------------\n",
      ">>>CB:\n",
      "5-fold scores: [0.88739162 0.88643188 0.88627132 0.89027804 0.88919303]\n",
      "Average AUC: 0.8879131783280684 --- St dev: 0.00157432697025046\n",
      "------------------------------------------------------------\n"
     ]
    }
   ],
   "source": [
    "df_scores = cross_val_performance(models)"
   ]
  },
  {
   "cell_type": "code",
   "execution_count": 35,
   "id": "2dd1fdd2",
   "metadata": {
    "execution": {
     "iopub.execute_input": "2024-01-28T16:36:00.816143Z",
     "iopub.status.busy": "2024-01-28T16:36:00.815545Z",
     "iopub.status.idle": "2024-01-28T16:36:01.251494Z",
     "shell.execute_reply": "2024-01-28T16:36:01.250573Z"
    },
    "papermill": {
     "duration": 0.468122,
     "end_time": "2024-01-28T16:36:01.253514",
     "exception": false,
     "start_time": "2024-01-28T16:36:00.785392",
     "status": "completed"
    },
    "tags": []
   },
   "outputs": [
    {
     "data": {
      "image/png": "[encoded data removed]",
      "text/plain": [
       "<Figure size 1300x700 with 2 Axes>"
      ]
     },
     "metadata": {},
     "output_type": "display_data"
    }
   ],
   "source": [
    "scores_barplot(df_scores)"
   ]
  },
  {
   "cell_type": "markdown",
   "id": "9836e02d",
   "metadata": {
    "papermill": {
     "duration": 0.032004,
     "end_time": "2024-01-28T16:36:01.315939",
     "exception": false,
     "start_time": "2024-01-28T16:36:01.283935",
     "status": "completed"
    },
    "tags": []
   },
   "source": [
    "## Feature Engineering "
   ]
  },
  {
   "cell_type": "code",
   "execution_count": 36,
   "id": "8fce79cf",
   "metadata": {
    "execution": {
     "iopub.execute_input": "2024-01-28T16:36:01.381603Z",
     "iopub.status.busy": "2024-01-28T16:36:01.381201Z",
     "iopub.status.idle": "2024-01-28T16:36:01.389362Z",
     "shell.execute_reply": "2024-01-28T16:36:01.388508Z"
    },
    "papermill": {
     "duration": 0.043283,
     "end_time": "2024-01-28T16:36:01.391327",
     "exception": false,
     "start_time": "2024-01-28T16:36:01.348044",
     "status": "completed"
    },
    "tags": []
   },
   "outputs": [],
   "source": [
    "def perform_feature_engineering(data):\n",
    "    df = data.copy()\n",
    "    # Age groups\n",
    "    age_bins = [0, 18, 30, 40, 50, 60,np.inf]\n",
    "    df['AgeGroup'] = pd.cut(df.Age, bins=age_bins, right=False, labels=False)\n",
    "    \n",
    "    # Balance categories\n",
    "    balance_bins = [-np.inf, 10000, 40000, 70000, 100000, np.inf]\n",
    "    df['BalanceCat'] = pd.cut(df.Balance, bins=balance_bins, right=False, labels=False)\n",
    "    \n",
    "    # Credit score catgories\n",
    "    credit_score_bins = [0,500, 600, 700, 800, np.inf]\n",
    "    df['CreScoreCat'] = pd.cut(df.CreditScore, bins=credit_score_bins, right=False, labels=False)\n",
    "    \n",
    "    # Surname length\n",
    "    df['SurnameLen'] = df.Surname.str.len()\n",
    "    \n",
    "    # Total Products over Years\n",
    "    df['TotalProducts'] = df_train.Tenure * df_train.NumOfProducts\n",
    "    \n",
    "    return df"
   ]
  },
  {
   "cell_type": "code",
   "execution_count": 37,
   "id": "7ac7eece",
   "metadata": {
    "execution": {
     "iopub.execute_input": "2024-01-28T16:36:01.456533Z",
     "iopub.status.busy": "2024-01-28T16:36:01.456220Z",
     "iopub.status.idle": "2024-01-28T16:36:01.604865Z",
     "shell.execute_reply": "2024-01-28T16:36:01.603646Z"
    },
    "papermill": {
     "duration": 0.184654,
     "end_time": "2024-01-28T16:36:01.607335",
     "exception": false,
     "start_time": "2024-01-28T16:36:01.422681",
     "status": "completed"
    },
    "tags": []
   },
   "outputs": [
    {
     "name": "stdout",
     "output_type": "stream",
     "text": [
      "(165034, 18)\n"
     ]
    },
    {
     "data": {
      "text/html": [
       "<div>\n",
       "<style scoped>\n",
       "    .dataframe tbody tr th:only-of-type {\n",
       "        vertical-align: middle;\n",
       "    }\n",
       "\n",
       "    .dataframe tbody tr th {\n",
       "        vertical-align: top;\n",
       "    }\n",
       "\n",
       "    .dataframe thead th {\n",
       "        text-align: right;\n",
       "    }\n",
       "</style>\n",
       "<table border=\"1\" class=\"dataframe\">\n",
       "  <thead>\n",
       "    <tr style=\"text-align: right;\">\n",
       "      <th></th>\n",
       "      <th>CustomerId</th>\n",
       "      <th>Surname</th>\n",
       "      <th>CreditScore</th>\n",
       "      <th>Geography</th>\n",
       "      <th>Gender</th>\n",
       "      <th>Age</th>\n",
       "      <th>Tenure</th>\n",
       "      <th>Balance</th>\n",
       "      <th>NumOfProducts</th>\n",
       "      <th>HasCrCard</th>\n",
       "      <th>IsActiveMember</th>\n",
       "      <th>EstimatedSalary</th>\n",
       "      <th>Exited</th>\n",
       "      <th>AgeGroup</th>\n",
       "      <th>BalanceCat</th>\n",
       "      <th>CreScoreCat</th>\n",
       "      <th>SurnameLen</th>\n",
       "      <th>TotalProducts</th>\n",
       "    </tr>\n",
       "  </thead>\n",
       "  <tbody>\n",
       "    <tr>\n",
       "      <th>0</th>\n",
       "      <td>15674932</td>\n",
       "      <td>Okwudilichukwu</td>\n",
       "      <td>668</td>\n",
       "      <td>France</td>\n",
       "      <td>Male</td>\n",
       "      <td>33.0</td>\n",
       "      <td>3</td>\n",
       "      <td>0.00</td>\n",
       "      <td>2</td>\n",
       "      <td>1.0</td>\n",
       "      <td>0.0</td>\n",
       "      <td>181449.97</td>\n",
       "      <td>0</td>\n",
       "      <td>2</td>\n",
       "      <td>0</td>\n",
       "      <td>2</td>\n",
       "      <td>14</td>\n",
       "      <td>6</td>\n",
       "    </tr>\n",
       "    <tr>\n",
       "      <th>1</th>\n",
       "      <td>15749177</td>\n",
       "      <td>Okwudiliolisa</td>\n",
       "      <td>627</td>\n",
       "      <td>France</td>\n",
       "      <td>Male</td>\n",
       "      <td>33.0</td>\n",
       "      <td>1</td>\n",
       "      <td>0.00</td>\n",
       "      <td>2</td>\n",
       "      <td>1.0</td>\n",
       "      <td>1.0</td>\n",
       "      <td>49503.50</td>\n",
       "      <td>0</td>\n",
       "      <td>2</td>\n",
       "      <td>0</td>\n",
       "      <td>2</td>\n",
       "      <td>13</td>\n",
       "      <td>2</td>\n",
       "    </tr>\n",
       "    <tr>\n",
       "      <th>2</th>\n",
       "      <td>15694510</td>\n",
       "      <td>Hsueh</td>\n",
       "      <td>678</td>\n",
       "      <td>France</td>\n",
       "      <td>Male</td>\n",
       "      <td>40.0</td>\n",
       "      <td>10</td>\n",
       "      <td>0.00</td>\n",
       "      <td>2</td>\n",
       "      <td>1.0</td>\n",
       "      <td>0.0</td>\n",
       "      <td>184866.69</td>\n",
       "      <td>0</td>\n",
       "      <td>3</td>\n",
       "      <td>0</td>\n",
       "      <td>2</td>\n",
       "      <td>5</td>\n",
       "      <td>20</td>\n",
       "    </tr>\n",
       "    <tr>\n",
       "      <th>3</th>\n",
       "      <td>15741417</td>\n",
       "      <td>Kao</td>\n",
       "      <td>581</td>\n",
       "      <td>France</td>\n",
       "      <td>Male</td>\n",
       "      <td>34.0</td>\n",
       "      <td>2</td>\n",
       "      <td>148882.54</td>\n",
       "      <td>1</td>\n",
       "      <td>1.0</td>\n",
       "      <td>1.0</td>\n",
       "      <td>84560.88</td>\n",
       "      <td>0</td>\n",
       "      <td>2</td>\n",
       "      <td>4</td>\n",
       "      <td>1</td>\n",
       "      <td>3</td>\n",
       "      <td>2</td>\n",
       "    </tr>\n",
       "    <tr>\n",
       "      <th>4</th>\n",
       "      <td>15766172</td>\n",
       "      <td>Chiemenam</td>\n",
       "      <td>716</td>\n",
       "      <td>Spain</td>\n",
       "      <td>Male</td>\n",
       "      <td>33.0</td>\n",
       "      <td>5</td>\n",
       "      <td>0.00</td>\n",
       "      <td>2</td>\n",
       "      <td>1.0</td>\n",
       "      <td>1.0</td>\n",
       "      <td>15068.83</td>\n",
       "      <td>0</td>\n",
       "      <td>2</td>\n",
       "      <td>0</td>\n",
       "      <td>3</td>\n",
       "      <td>9</td>\n",
       "      <td>10</td>\n",
       "    </tr>\n",
       "  </tbody>\n",
       "</table>\n",
       "</div>"
      ],
      "text/plain": [
       "   CustomerId         Surname  CreditScore Geography Gender   Age  Tenure  \\\n",
       "0    15674932  Okwudilichukwu          668    France   Male  33.0       3   \n",
       "1    15749177   Okwudiliolisa          627    France   Male  33.0       1   \n",
       "2    15694510           Hsueh          678    France   Male  40.0      10   \n",
       "3    15741417             Kao          581    France   Male  34.0       2   \n",
       "4    15766172       Chiemenam          716     Spain   Male  33.0       5   \n",
       "\n",
       "     Balance  NumOfProducts  HasCrCard  IsActiveMember  EstimatedSalary  \\\n",
       "0       0.00              2        1.0             0.0        181449.97   \n",
       "1       0.00              2        1.0             1.0         49503.50   \n",
       "2       0.00              2        1.0             0.0        184866.69   \n",
       "3  148882.54              1        1.0             1.0         84560.88   \n",
       "4       0.00              2        1.0             1.0         15068.83   \n",
       "\n",
       "   Exited  AgeGroup  BalanceCat  CreScoreCat  SurnameLen  TotalProducts  \n",
       "0       0         2           0            2          14              6  \n",
       "1       0         2           0            2          13              2  \n",
       "2       0         3           0            2           5             20  \n",
       "3       0         2           4            1           3              2  \n",
       "4       0         2           0            3           9             10  "
      ]
     },
     "execution_count": 37,
     "metadata": {},
     "output_type": "execute_result"
    }
   ],
   "source": [
    "new_df = perform_feature_engineering(df_train)\n",
    "print(new_df.shape)\n",
    "new_df.head()"
   ]
  },
  {
   "cell_type": "code",
   "execution_count": 38,
   "id": "82111915",
   "metadata": {
    "execution": {
     "iopub.execute_input": "2024-01-28T16:36:01.678202Z",
     "iopub.status.busy": "2024-01-28T16:36:01.677877Z",
     "iopub.status.idle": "2024-01-28T16:36:02.013776Z",
     "shell.execute_reply": "2024-01-28T16:36:02.012956Z"
    },
    "papermill": {
     "duration": 0.372352,
     "end_time": "2024-01-28T16:36:02.016264",
     "exception": false,
     "start_time": "2024-01-28T16:36:01.643912",
     "status": "completed"
    },
    "tags": []
   },
   "outputs": [],
   "source": [
    "new_X = new_df.drop(columns=['CustomerId', 'Surname', 'Exited'])\n",
    "y = df_train['Exited'].values\n",
    "\n",
    "\n",
    "new_X_train, new_X_val, y_train, y_val = train_test_split(new_X, y, stratify=y, random_state=seed)\n",
    "\n",
    "new_X_train_scaled, new_X_val_scaled = scale_and_encode(new_X_train, new_X_val)"
   ]
  },
  {
   "cell_type": "markdown",
   "id": "45ec6633",
   "metadata": {
    "papermill": {
     "duration": 0.03068,
     "end_time": "2024-01-28T16:36:02.078357",
     "exception": false,
     "start_time": "2024-01-28T16:36:02.047677",
     "status": "completed"
    },
    "tags": []
   },
   "source": [
    "## Model Training with Feature Engineered Data "
   ]
  },
  {
   "cell_type": "code",
   "execution_count": 39,
   "id": "31659cb7",
   "metadata": {
    "execution": {
     "iopub.execute_input": "2024-01-28T16:36:02.141282Z",
     "iopub.status.busy": "2024-01-28T16:36:02.140580Z",
     "iopub.status.idle": "2024-01-28T16:40:47.442552Z",
     "shell.execute_reply": "2024-01-28T16:40:47.441585Z"
    },
    "papermill": {
     "duration": 285.366274,
     "end_time": "2024-01-28T16:40:47.475403",
     "exception": false,
     "start_time": "2024-01-28T16:36:02.109129",
     "status": "completed"
    },
    "tags": []
   },
   "outputs": [
    {
     "name": "stdout",
     "output_type": "stream",
     "text": [
      ">>>LOGREG:\n",
      "5-fold scores: [0.82093957 0.81556172 0.8184666  0.81650781 0.82222051]\n",
      "Average AUC: 0.8187392434995143 --- St dev: 0.0025342040975618115\n",
      "------------------------------------------------------------\n",
      ">>>ADA:\n",
      "5-fold scores: [0.87994332 0.87794312 0.87922997 0.88242736 0.8819306 ]\n",
      "Average AUC: 0.8802948737190913 --- St dev: 0.0016740021926239395\n",
      "------------------------------------------------------------\n",
      ">>>KNN:\n",
      "5-fold scores: [0.8228387  0.81963423 0.82025602 0.82726592 0.81919395]\n",
      "Average AUC: 0.8218377657955104 --- St dev: 0.0029937936708905144\n",
      "------------------------------------------------------------\n",
      ">>>RF:\n",
      "5-fold scores: [0.87322021 0.87210943 0.87274484 0.87737802 0.87507826]\n",
      "Average AUC: 0.8741061530223359 --- St dev: 0.001911807590150368\n",
      "------------------------------------------------------------\n",
      ">>>GB:\n",
      "5-fold scores: [0.88769252 0.88716424 0.88704617 0.89011207 0.89011818]\n",
      "Average AUC: 0.8884266354066146 --- St dev: 0.0013957257512004341\n",
      "------------------------------------------------------------\n",
      ">>>GNB:\n",
      "5-fold scores: [0.8122716  0.80971648 0.80956807 0.81523566 0.81798521]\n",
      "Average AUC: 0.8129554033187378 --- St dev: 0.00325363900195152\n",
      "------------------------------------------------------------\n",
      ">>>XGB:\n",
      "5-fold scores: [0.88518775 0.88403231 0.88390746 0.8882003  0.88536969]\n",
      "Average AUC: 0.8853395033965871 --- St dev: 0.0015471003721795225\n",
      "------------------------------------------------------------\n",
      ">>>LGB:\n",
      "5-fold scores: [0.88800082 0.88769189 0.88748296 0.89152932 0.88990935]\n",
      "Average AUC: 0.8889228674010365 --- St dev: 0.0015624070391729342\n",
      "------------------------------------------------------------\n",
      ">>>CB:\n",
      "5-fold scores: [0.88747119 0.8867985  0.88664576 0.89021234 0.88932498]\n",
      "Average AUC: 0.8880905535079261 --- St dev: 0.0014259184337544828\n",
      "------------------------------------------------------------\n"
     ]
    }
   ],
   "source": [
    "new_scores_df = cross_val_performance(models, x_train=new_X_train_scaled)"
   ]
  },
  {
   "cell_type": "code",
   "execution_count": 40,
   "id": "a34e5dcb",
   "metadata": {
    "execution": {
     "iopub.execute_input": "2024-01-28T16:40:47.538371Z",
     "iopub.status.busy": "2024-01-28T16:40:47.537728Z",
     "iopub.status.idle": "2024-01-28T16:40:48.068621Z",
     "shell.execute_reply": "2024-01-28T16:40:48.067695Z"
    },
    "papermill": {
     "duration": 0.564811,
     "end_time": "2024-01-28T16:40:48.070905",
     "exception": false,
     "start_time": "2024-01-28T16:40:47.506094",
     "status": "completed"
    },
    "tags": []
   },
   "outputs": [
    {
     "data": {
      "image/png": "[encoded data removed]",
      "text/plain": [
       "<Figure size 1300x700 with 2 Axes>"
      ]
     },
     "metadata": {},
     "output_type": "display_data"
    }
   ],
   "source": [
    "scores_barplot(new_scores_df)"
   ]
  },
  {
   "cell_type": "markdown",
   "id": "117f2f4c",
   "metadata": {
    "papermill": {
     "duration": 0.032719,
     "end_time": "2024-01-28T16:40:48.137615",
     "exception": false,
     "start_time": "2024-01-28T16:40:48.104896",
     "status": "completed"
    },
    "tags": []
   },
   "source": [
    "## Hyperparameter Tuning"
   ]
  },
  {
   "cell_type": "code",
   "execution_count": 41,
   "id": "34114e59",
   "metadata": {
    "execution": {
     "iopub.execute_input": "2024-01-28T16:40:48.202908Z",
     "iopub.status.busy": "2024-01-28T16:40:48.202075Z",
     "iopub.status.idle": "2024-01-28T16:40:48.206767Z",
     "shell.execute_reply": "2024-01-28T16:40:48.205875Z"
    },
    "papermill": {
     "duration": 0.039366,
     "end_time": "2024-01-28T16:40:48.208608",
     "exception": false,
     "start_time": "2024-01-28T16:40:48.169242",
     "status": "completed"
    },
    "tags": []
   },
   "outputs": [],
   "source": [
    "from sklearn.model_selection import RandomizedSearchCV\n",
    "\n",
    "from scipy.stats import randint as sp_randint\n",
    "from scipy.stats import uniform as sp_uniform"
   ]
  },
  {
   "cell_type": "code",
   "execution_count": 42,
   "id": "5498c440",
   "metadata": {
    "execution": {
     "iopub.execute_input": "2024-01-28T16:40:48.274845Z",
     "iopub.status.busy": "2024-01-28T16:40:48.274392Z",
     "iopub.status.idle": "2024-01-28T16:40:48.280326Z",
     "shell.execute_reply": "2024-01-28T16:40:48.279488Z"
    },
    "papermill": {
     "duration": 0.04185,
     "end_time": "2024-01-28T16:40:48.282176",
     "exception": false,
     "start_time": "2024-01-28T16:40:48.240326",
     "status": "completed"
    },
    "tags": []
   },
   "outputs": [],
   "source": [
    "models = [('logreg', LogisticRegression(random_state=seed)),\n",
    "          ('ada', AdaBoostClassifier(random_state=seed)),\n",
    "          ('knn', KNeighborsClassifier()),\n",
    "          ('rf', RandomForestClassifier(random_state=seed)),\n",
    "          ('gb', GradientBoostingClassifier(random_state=seed)),\n",
    "          ('gnb', GaussianNB()),\n",
    "          ('xgb', XGBClassifier(random_state=seed)),\n",
    "          ('lgb', LGBMClassifier(random_state=seed)),\n",
    "          ('cb', CatBoostClassifier(random_state=seed, verbose=False,))]"
   ]
  },
  {
   "cell_type": "markdown",
   "id": "63b0d423",
   "metadata": {
    "papermill": {
     "duration": 0.03119,
     "end_time": "2024-01-28T16:40:48.344705",
     "exception": false,
     "start_time": "2024-01-28T16:40:48.313515",
     "status": "completed"
    },
    "tags": []
   },
   "source": [
    "## LightGBM"
   ]
  },
  {
   "cell_type": "code",
   "execution_count": 43,
   "id": "578e15fb",
   "metadata": {
    "execution": {
     "iopub.execute_input": "2024-01-28T16:40:48.408977Z",
     "iopub.status.busy": "2024-01-28T16:40:48.408661Z",
     "iopub.status.idle": "2024-01-28T16:40:48.417897Z",
     "shell.execute_reply": "2024-01-28T16:40:48.417056Z"
    },
    "papermill": {
     "duration": 0.043544,
     "end_time": "2024-01-28T16:40:48.419692",
     "exception": false,
     "start_time": "2024-01-28T16:40:48.376148",
     "status": "completed"
    },
    "tags": []
   },
   "outputs": [],
   "source": [
    "lgbParams = {'num_leaves': sp_randint(6, 50), \n",
    "             'min_child_samples': sp_randint(100, 500), \n",
    "             'min_child_weight': [1e-5, 1e-3, 1e-2, 1e-1, 1, 1e1, 1e2, 1e3],\n",
    "             'subsample': sp_uniform(loc=0.2, scale=0.8), \n",
    "             'colsample_bytree': sp_uniform(loc=0.4, scale=0.6),\n",
    "             'reg_alpha': [0, 1e-1, 1, 2, 5, 7, 10, 50],\n",
    "             'reg_lambda': [0, 1e-1, 1, 5, 10, 20, 50]}"
   ]
  },
  {
   "cell_type": "code",
   "execution_count": 44,
   "id": "d3e6d86a",
   "metadata": {
    "execution": {
     "iopub.execute_input": "2024-01-28T16:40:48.483306Z",
     "iopub.status.busy": "2024-01-28T16:40:48.483034Z",
     "iopub.status.idle": "2024-01-28T16:41:35.399810Z",
     "shell.execute_reply": "2024-01-28T16:41:35.398787Z"
    },
    "papermill": {
     "duration": 46.981719,
     "end_time": "2024-01-28T16:41:35.432674",
     "exception": false,
     "start_time": "2024-01-28T16:40:48.450955",
     "status": "completed"
    },
    "tags": []
   },
   "outputs": [
    {
     "data": {
      "text/html": [
       "<style>#sk-container-id-1 {color: black;background-color: white;}#sk-container-id-1 pre{padding: 0;}#sk-container-id-1 div.sk-toggleable {background-color: white;}#sk-container-id-1 label.sk-toggleable__label {cursor: pointer;display: block;width: 100%;margin-bottom: 0;padding: 0.3em;box-sizing: border-box;text-align: center;}#sk-container-id-1 label.sk-toggleable__label-arrow:before {content: \"▸\";float: left;margin-right: 0.25em;color: #696969;}#sk-container-id-1 label.sk-toggleable__label-arrow:hover:before {color: black;}#sk-container-id-1 div.sk-estimator:hover label.sk-toggleable__label-arrow:before {color: black;}#sk-container-id-1 div.sk-toggleable__content {max-height: 0;max-width: 0;overflow: hidden;text-align: left;background-color: #f0f8ff;}#sk-container-id-1 div.sk-toggleable__content pre {margin: 0.2em;color: black;border-radius: 0.25em;background-color: #f0f8ff;}#sk-container-id-1 input.sk-toggleable__control:checked~div.sk-toggleable__content {max-height: 200px;max-width: 100%;overflow: auto;}#sk-container-id-1 input.sk-toggleable__control:checked~label.sk-toggleable__label-arrow:before {content: \"▾\";}#sk-container-id-1 div.sk-estimator input.sk-toggleable__control:checked~label.sk-toggleable__label {background-color: #d4ebff;}#sk-container-id-1 div.sk-label input.sk-toggleable__control:checked~label.sk-toggleable__label {background-color: #d4ebff;}#sk-container-id-1 input.sk-hidden--visually {border: 0;clip: rect(1px 1px 1px 1px);clip: rect(1px, 1px, 1px, 1px);height: 1px;margin: -1px;overflow: hidden;padding: 0;position: absolute;width: 1px;}#sk-container-id-1 div.sk-estimator {font-family: monospace;background-color: #f0f8ff;border: 1px dotted black;border-radius: 0.25em;box-sizing: border-box;margin-bottom: 0.5em;}#sk-container-id-1 div.sk-estimator:hover {background-color: #d4ebff;}#sk-container-id-1 div.sk-parallel-item::after {content: \"\";width: 100%;border-bottom: 1px solid gray;flex-grow: 1;}#sk-container-id-1 div.sk-label:hover label.sk-toggleable__label {background-color: #d4ebff;}#sk-container-id-1 div.sk-serial::before {content: \"\";position: absolute;border-left: 1px solid gray;box-sizing: border-box;top: 0;bottom: 0;left: 50%;z-index: 0;}#sk-container-id-1 div.sk-serial {display: flex;flex-direction: column;align-items: center;background-color: white;padding-right: 0.2em;padding-left: 0.2em;position: relative;}#sk-container-id-1 div.sk-item {position: relative;z-index: 1;}#sk-container-id-1 div.sk-parallel {display: flex;align-items: stretch;justify-content: center;background-color: white;position: relative;}#sk-container-id-1 div.sk-item::before, #sk-container-id-1 div.sk-parallel-item::before {content: \"\";position: absolute;border-left: 1px solid gray;box-sizing: border-box;top: 0;bottom: 0;left: 50%;z-index: -1;}#sk-container-id-1 div.sk-parallel-item {display: flex;flex-direction: column;z-index: 1;position: relative;background-color: white;}#sk-container-id-1 div.sk-parallel-item:first-child::after {align-self: flex-end;width: 50%;}#sk-container-id-1 div.sk-parallel-item:last-child::after {align-self: flex-start;width: 50%;}#sk-container-id-1 div.sk-parallel-item:only-child::after {width: 0;}#sk-container-id-1 div.sk-dashed-wrapped {border: 1px dashed gray;margin: 0 0.4em 0.5em 0.4em;box-sizing: border-box;padding-bottom: 0.4em;background-color: white;}#sk-container-id-1 div.sk-label label {font-family: monospace;font-weight: bold;display: inline-block;line-height: 1.2em;}#sk-container-id-1 div.sk-label-container {text-align: center;}#sk-container-id-1 div.sk-container {/* jupyter's `normalize.less` sets `[hidden] { display: none; }` but bootstrap.min.css set `[hidden] { display: none !important; }` so we also need the `!important` here to be able to override the default hidden behavior on the sphinx rendered scikit-learn.org. See: https://github.com/scikit-learn/scikit-learn/issues/21755 */display: inline-block !important;position: relative;}#sk-container-id-1 div.sk-text-repr-fallback {display: none;}</style><div id=\"sk-container-id-1\" class=\"sk-top-container\"><div class=\"sk-text-repr-fallback\"><pre>RandomizedSearchCV(cv=5, estimator=LGBMClassifier(random_state=42),\n",
       "                   param_distributions={&#x27;colsample_bytree&#x27;: &lt;scipy.stats._distn_infrastructure.rv_frozen object at 0x7f6ee6bc4670&gt;,\n",
       "                                        &#x27;min_child_samples&#x27;: &lt;scipy.stats._distn_infrastructure.rv_frozen object at 0x7f6eec64aec0&gt;,\n",
       "                                        &#x27;min_child_weight&#x27;: [1e-05, 0.001, 0.01,\n",
       "                                                             0.1, 1, 10.0,\n",
       "                                                             100.0, 1000.0],\n",
       "                                        &#x27;num_leaves&#x27;: &lt;scipy.stats._distn_infrastructure.rv_frozen object at 0x7f6ee6baa350&gt;,\n",
       "                                        &#x27;reg_alpha&#x27;: [0, 0.1, 1, 2, 5, 7, 10,\n",
       "                                                      50],\n",
       "                                        &#x27;reg_lambda&#x27;: [0, 0.1, 1, 5, 10, 20,\n",
       "                                                       50],\n",
       "                                        &#x27;subsample&#x27;: &lt;scipy.stats._distn_infrastructure.rv_frozen object at 0x7f6ee6bc4430&gt;},\n",
       "                   scoring=&#x27;roc_auc&#x27;)</pre><b>In a Jupyter environment, please rerun this cell to show the HTML representation or trust the notebook. <br />On GitHub, the HTML representation is unable to render, please try loading this page with nbviewer.org.</b></div><div class=\"sk-container\" hidden><div class=\"sk-item sk-dashed-wrapped\"><div class=\"sk-label-container\"><div class=\"sk-label sk-toggleable\"><input class=\"sk-toggleable__control sk-hidden--visually\" id=\"sk-estimator-id-1\" type=\"checkbox\" ><label for=\"sk-estimator-id-1\" class=\"sk-toggleable__label sk-toggleable__label-arrow\">RandomizedSearchCV</label><div class=\"sk-toggleable__content\"><pre>RandomizedSearchCV(cv=5, estimator=LGBMClassifier(random_state=42),\n",
       "                   param_distributions={&#x27;colsample_bytree&#x27;: &lt;scipy.stats._distn_infrastructure.rv_frozen object at 0x7f6ee6bc4670&gt;,\n",
       "                                        &#x27;min_child_samples&#x27;: &lt;scipy.stats._distn_infrastructure.rv_frozen object at 0x7f6eec64aec0&gt;,\n",
       "                                        &#x27;min_child_weight&#x27;: [1e-05, 0.001, 0.01,\n",
       "                                                             0.1, 1, 10.0,\n",
       "                                                             100.0, 1000.0],\n",
       "                                        &#x27;num_leaves&#x27;: &lt;scipy.stats._distn_infrastructure.rv_frozen object at 0x7f6ee6baa350&gt;,\n",
       "                                        &#x27;reg_alpha&#x27;: [0, 0.1, 1, 2, 5, 7, 10,\n",
       "                                                      50],\n",
       "                                        &#x27;reg_lambda&#x27;: [0, 0.1, 1, 5, 10, 20,\n",
       "                                                       50],\n",
       "                                        &#x27;subsample&#x27;: &lt;scipy.stats._distn_infrastructure.rv_frozen object at 0x7f6ee6bc4430&gt;},\n",
       "                   scoring=&#x27;roc_auc&#x27;)</pre></div></div></div><div class=\"sk-parallel\"><div class=\"sk-parallel-item\"><div class=\"sk-item\"><div class=\"sk-label-container\"><div class=\"sk-label sk-toggleable\"><input class=\"sk-toggleable__control sk-hidden--visually\" id=\"sk-estimator-id-2\" type=\"checkbox\" ><label for=\"sk-estimator-id-2\" class=\"sk-toggleable__label sk-toggleable__label-arrow\">estimator: LGBMClassifier</label><div class=\"sk-toggleable__content\"><pre>LGBMClassifier(random_state=42)</pre></div></div></div><div class=\"sk-serial\"><div class=\"sk-item\"><div class=\"sk-estimator sk-toggleable\"><input class=\"sk-toggleable__control sk-hidden--visually\" id=\"sk-estimator-id-3\" type=\"checkbox\" ><label for=\"sk-estimator-id-3\" class=\"sk-toggleable__label sk-toggleable__label-arrow\">LGBMClassifier</label><div class=\"sk-toggleable__content\"><pre>LGBMClassifier(random_state=42)</pre></div></div></div></div></div></div></div></div></div></div>"
      ],
      "text/plain": [
       "RandomizedSearchCV(cv=5, estimator=LGBMClassifier(random_state=42),\n",
       "                   param_distributions={'colsample_bytree': <scipy.stats._distn_infrastructure.rv_frozen object at 0x7f6ee6bc4670>,\n",
       "                                        'min_child_samples': <scipy.stats._distn_infrastructure.rv_frozen object at 0x7f6eec64aec0>,\n",
       "                                        'min_child_weight': [1e-05, 0.001, 0.01,\n",
       "                                                             0.1, 1, 10.0,\n",
       "                                                             100.0, 1000.0],\n",
       "                                        'num_leaves': <scipy.stats._distn_infrastructure.rv_frozen object at 0x7f6ee6baa350>,\n",
       "                                        'reg_alpha': [0, 0.1, 1, 2, 5, 7, 10,\n",
       "                                                      50],\n",
       "                                        'reg_lambda': [0, 0.1, 1, 5, 10, 20,\n",
       "                                                       50],\n",
       "                                        'subsample': <scipy.stats._distn_infrastructure.rv_frozen object at 0x7f6ee6bc4430>},\n",
       "                   scoring='roc_auc')"
      ]
     },
     "execution_count": 44,
     "metadata": {},
     "output_type": "execute_result"
    }
   ],
   "source": [
    "lgb = LGBMClassifier(random_state=seed)\n",
    "lgb_cv = RandomizedSearchCV(lgb, param_distributions=lgbParams, cv=5, scoring='roc_auc')\n",
    "lgb_cv.fit(new_X_train_scaled, y_train)"
   ]
  },
  {
   "cell_type": "code",
   "execution_count": 45,
   "id": "529b89eb",
   "metadata": {
    "execution": {
     "iopub.execute_input": "2024-01-28T16:41:35.499868Z",
     "iopub.status.busy": "2024-01-28T16:41:35.499051Z",
     "iopub.status.idle": "2024-01-28T16:41:35.505058Z",
     "shell.execute_reply": "2024-01-28T16:41:35.504221Z"
    },
    "papermill": {
     "duration": 0.041754,
     "end_time": "2024-01-28T16:41:35.506981",
     "exception": false,
     "start_time": "2024-01-28T16:41:35.465227",
     "status": "completed"
    },
    "tags": []
   },
   "outputs": [
    {
     "data": {
      "text/plain": [
       "0.8895703321531485"
      ]
     },
     "execution_count": 45,
     "metadata": {},
     "output_type": "execute_result"
    }
   ],
   "source": [
    "lgb_cv.best_score_"
   ]
  },
  {
   "cell_type": "markdown",
   "id": "15038441",
   "metadata": {
    "papermill": {
     "duration": 0.032427,
     "end_time": "2024-01-28T16:41:35.571472",
     "exception": false,
     "start_time": "2024-01-28T16:41:35.539045",
     "status": "completed"
    },
    "tags": []
   },
   "source": [
    "## Gradient Boosting"
   ]
  },
  {
   "cell_type": "code",
   "execution_count": 46,
   "id": "b1721d8c",
   "metadata": {
    "execution": {
     "iopub.execute_input": "2024-01-28T16:41:35.637263Z",
     "iopub.status.busy": "2024-01-28T16:41:35.636958Z",
     "iopub.status.idle": "2024-01-28T16:41:35.642556Z",
     "shell.execute_reply": "2024-01-28T16:41:35.641722Z"
    },
    "papermill": {
     "duration": 0.04053,
     "end_time": "2024-01-28T16:41:35.644378",
     "exception": false,
     "start_time": "2024-01-28T16:41:35.603848",
     "status": "completed"
    },
    "tags": []
   },
   "outputs": [],
   "source": [
    "gbParams = {\n",
    "    \"learning_rate\": [0.01, 0.025, 0.05, 0.075, 0.1, 0.15, 0.2],\n",
    "    \"min_samples_split\": np.linspace(0.1, 0.5, 12),\n",
    "    \"min_samples_leaf\": np.linspace(0.1, 0.5, 12),\n",
    "    \"max_depth\":[3,5,8],\n",
    "    \"max_features\":[\"sqrt\"],\n",
    "    \"criterion\": [\"friedman_mse\"],\n",
    "    \"subsample\":[0.5, 0.618, 0.8, 0.85, 0.9, 0.95, 1.0],\n",
    "    \"n_estimators\":[10, 50, 100]\n",
    "    }"
   ]
  },
  {
   "cell_type": "code",
   "execution_count": 47,
   "id": "ffdfb60a",
   "metadata": {
    "execution": {
     "iopub.execute_input": "2024-01-28T16:41:35.710131Z",
     "iopub.status.busy": "2024-01-28T16:41:35.709862Z",
     "iopub.status.idle": "2024-01-28T16:43:01.950481Z",
     "shell.execute_reply": "2024-01-28T16:43:01.949509Z"
    },
    "papermill": {
     "duration": 86.309175,
     "end_time": "2024-01-28T16:43:01.986085",
     "exception": false,
     "start_time": "2024-01-28T16:41:35.676910",
     "status": "completed"
    },
    "tags": []
   },
   "outputs": [
    {
     "data": {
      "text/html": [
       "<style>#sk-container-id-2 {color: black;background-color: white;}#sk-container-id-2 pre{padding: 0;}#sk-container-id-2 div.sk-toggleable {background-color: white;}#sk-container-id-2 label.sk-toggleable__label {cursor: pointer;display: block;width: 100%;margin-bottom: 0;padding: 0.3em;box-sizing: border-box;text-align: center;}#sk-container-id-2 label.sk-toggleable__label-arrow:before {content: \"▸\";float: left;margin-right: 0.25em;color: #696969;}#sk-container-id-2 label.sk-toggleable__label-arrow:hover:before {color: black;}#sk-container-id-2 div.sk-estimator:hover label.sk-toggleable__label-arrow:before {color: black;}#sk-container-id-2 div.sk-toggleable__content {max-height: 0;max-width: 0;overflow: hidden;text-align: left;background-color: #f0f8ff;}#sk-container-id-2 div.sk-toggleable__content pre {margin: 0.2em;color: black;border-radius: 0.25em;background-color: #f0f8ff;}#sk-container-id-2 input.sk-toggleable__control:checked~div.sk-toggleable__content {max-height: 200px;max-width: 100%;overflow: auto;}#sk-container-id-2 input.sk-toggleable__control:checked~label.sk-toggleable__label-arrow:before {content: \"▾\";}#sk-container-id-2 div.sk-estimator input.sk-toggleable__control:checked~label.sk-toggleable__label {background-color: #d4ebff;}#sk-container-id-2 div.sk-label input.sk-toggleable__control:checked~label.sk-toggleable__label {background-color: #d4ebff;}#sk-container-id-2 input.sk-hidden--visually {border: 0;clip: rect(1px 1px 1px 1px);clip: rect(1px, 1px, 1px, 1px);height: 1px;margin: -1px;overflow: hidden;padding: 0;position: absolute;width: 1px;}#sk-container-id-2 div.sk-estimator {font-family: monospace;background-color: #f0f8ff;border: 1px dotted black;border-radius: 0.25em;box-sizing: border-box;margin-bottom: 0.5em;}#sk-container-id-2 div.sk-estimator:hover {background-color: #d4ebff;}#sk-container-id-2 div.sk-parallel-item::after {content: \"\";width: 100%;border-bottom: 1px solid gray;flex-grow: 1;}#sk-container-id-2 div.sk-label:hover label.sk-toggleable__label {background-color: #d4ebff;}#sk-container-id-2 div.sk-serial::before {content: \"\";position: absolute;border-left: 1px solid gray;box-sizing: border-box;top: 0;bottom: 0;left: 50%;z-index: 0;}#sk-container-id-2 div.sk-serial {display: flex;flex-direction: column;align-items: center;background-color: white;padding-right: 0.2em;padding-left: 0.2em;position: relative;}#sk-container-id-2 div.sk-item {position: relative;z-index: 1;}#sk-container-id-2 div.sk-parallel {display: flex;align-items: stretch;justify-content: center;background-color: white;position: relative;}#sk-container-id-2 div.sk-item::before, #sk-container-id-2 div.sk-parallel-item::before {content: \"\";position: absolute;border-left: 1px solid gray;box-sizing: border-box;top: 0;bottom: 0;left: 50%;z-index: -1;}#sk-container-id-2 div.sk-parallel-item {display: flex;flex-direction: column;z-index: 1;position: relative;background-color: white;}#sk-container-id-2 div.sk-parallel-item:first-child::after {align-self: flex-end;width: 50%;}#sk-container-id-2 div.sk-parallel-item:last-child::after {align-self: flex-start;width: 50%;}#sk-container-id-2 div.sk-parallel-item:only-child::after {width: 0;}#sk-container-id-2 div.sk-dashed-wrapped {border: 1px dashed gray;margin: 0 0.4em 0.5em 0.4em;box-sizing: border-box;padding-bottom: 0.4em;background-color: white;}#sk-container-id-2 div.sk-label label {font-family: monospace;font-weight: bold;display: inline-block;line-height: 1.2em;}#sk-container-id-2 div.sk-label-container {text-align: center;}#sk-container-id-2 div.sk-container {/* jupyter's `normalize.less` sets `[hidden] { display: none; }` but bootstrap.min.css set `[hidden] { display: none !important; }` so we also need the `!important` here to be able to override the default hidden behavior on the sphinx rendered scikit-learn.org. See: https://github.com/scikit-learn/scikit-learn/issues/21755 */display: inline-block !important;position: relative;}#sk-container-id-2 div.sk-text-repr-fallback {display: none;}</style><div id=\"sk-container-id-2\" class=\"sk-top-container\"><div class=\"sk-text-repr-fallback\"><pre>RandomizedSearchCV(cv=5, estimator=GradientBoostingClassifier(random_state=42),\n",
       "                   param_distributions={&#x27;criterion&#x27;: [&#x27;friedman_mse&#x27;],\n",
       "                                        &#x27;learning_rate&#x27;: [0.01, 0.025, 0.05,\n",
       "                                                          0.075, 0.1, 0.15,\n",
       "                                                          0.2],\n",
       "                                        &#x27;max_depth&#x27;: [3, 5, 8],\n",
       "                                        &#x27;max_features&#x27;: [&#x27;sqrt&#x27;],\n",
       "                                        &#x27;min_samples_leaf&#x27;: array([0.1       , 0.13636364, 0.17272727, 0.20909091, 0.24545455,\n",
       "       0.28181818, 0.31818182, 0.35454545, 0.39090909, 0.42727273,\n",
       "       0.46363636, 0.5       ]),\n",
       "                                        &#x27;min_samples_split&#x27;: array([0.1       , 0.13636364, 0.17272727, 0.20909091, 0.24545455,\n",
       "       0.28181818, 0.31818182, 0.35454545, 0.39090909, 0.42727273,\n",
       "       0.46363636, 0.5       ]),\n",
       "                                        &#x27;n_estimators&#x27;: [10, 50, 100],\n",
       "                                        &#x27;subsample&#x27;: [0.5, 0.618, 0.8, 0.85,\n",
       "                                                      0.9, 0.95, 1.0]},\n",
       "                   scoring=&#x27;roc_auc&#x27;)</pre><b>In a Jupyter environment, please rerun this cell to show the HTML representation or trust the notebook. <br />On GitHub, the HTML representation is unable to render, please try loading this page with nbviewer.org.</b></div><div class=\"sk-container\" hidden><div class=\"sk-item sk-dashed-wrapped\"><div class=\"sk-label-container\"><div class=\"sk-label sk-toggleable\"><input class=\"sk-toggleable__control sk-hidden--visually\" id=\"sk-estimator-id-4\" type=\"checkbox\" ><label for=\"sk-estimator-id-4\" class=\"sk-toggleable__label sk-toggleable__label-arrow\">RandomizedSearchCV</label><div class=\"sk-toggleable__content\"><pre>RandomizedSearchCV(cv=5, estimator=GradientBoostingClassifier(random_state=42),\n",
       "                   param_distributions={&#x27;criterion&#x27;: [&#x27;friedman_mse&#x27;],\n",
       "                                        &#x27;learning_rate&#x27;: [0.01, 0.025, 0.05,\n",
       "                                                          0.075, 0.1, 0.15,\n",
       "                                                          0.2],\n",
       "                                        &#x27;max_depth&#x27;: [3, 5, 8],\n",
       "                                        &#x27;max_features&#x27;: [&#x27;sqrt&#x27;],\n",
       "                                        &#x27;min_samples_leaf&#x27;: array([0.1       , 0.13636364, 0.17272727, 0.20909091, 0.24545455,\n",
       "       0.28181818, 0.31818182, 0.35454545, 0.39090909, 0.42727273,\n",
       "       0.46363636, 0.5       ]),\n",
       "                                        &#x27;min_samples_split&#x27;: array([0.1       , 0.13636364, 0.17272727, 0.20909091, 0.24545455,\n",
       "       0.28181818, 0.31818182, 0.35454545, 0.39090909, 0.42727273,\n",
       "       0.46363636, 0.5       ]),\n",
       "                                        &#x27;n_estimators&#x27;: [10, 50, 100],\n",
       "                                        &#x27;subsample&#x27;: [0.5, 0.618, 0.8, 0.85,\n",
       "                                                      0.9, 0.95, 1.0]},\n",
       "                   scoring=&#x27;roc_auc&#x27;)</pre></div></div></div><div class=\"sk-parallel\"><div class=\"sk-parallel-item\"><div class=\"sk-item\"><div class=\"sk-label-container\"><div class=\"sk-label sk-toggleable\"><input class=\"sk-toggleable__control sk-hidden--visually\" id=\"sk-estimator-id-5\" type=\"checkbox\" ><label for=\"sk-estimator-id-5\" class=\"sk-toggleable__label sk-toggleable__label-arrow\">estimator: GradientBoostingClassifier</label><div class=\"sk-toggleable__content\"><pre>GradientBoostingClassifier(random_state=42)</pre></div></div></div><div class=\"sk-serial\"><div class=\"sk-item\"><div class=\"sk-estimator sk-toggleable\"><input class=\"sk-toggleable__control sk-hidden--visually\" id=\"sk-estimator-id-6\" type=\"checkbox\" ><label for=\"sk-estimator-id-6\" class=\"sk-toggleable__label sk-toggleable__label-arrow\">GradientBoostingClassifier</label><div class=\"sk-toggleable__content\"><pre>GradientBoostingClassifier(random_state=42)</pre></div></div></div></div></div></div></div></div></div></div>"
      ],
      "text/plain": [
       "RandomizedSearchCV(cv=5, estimator=GradientBoostingClassifier(random_state=42),\n",
       "                   param_distributions={'criterion': ['friedman_mse'],\n",
       "                                        'learning_rate': [0.01, 0.025, 0.05,\n",
       "                                                          0.075, 0.1, 0.15,\n",
       "                                                          0.2],\n",
       "                                        'max_depth': [3, 5, 8],\n",
       "                                        'max_features': ['sqrt'],\n",
       "                                        'min_samples_leaf': array([0.1       , 0.13636364, 0.17272727, 0.20909091, 0.24545455,\n",
       "       0.28181818, 0.31818182, 0.35454545, 0.39090909, 0.42727273,\n",
       "       0.46363636, 0.5       ]),\n",
       "                                        'min_samples_split': array([0.1       , 0.13636364, 0.17272727, 0.20909091, 0.24545455,\n",
       "       0.28181818, 0.31818182, 0.35454545, 0.39090909, 0.42727273,\n",
       "       0.46363636, 0.5       ]),\n",
       "                                        'n_estimators': [10, 50, 100],\n",
       "                                        'subsample': [0.5, 0.618, 0.8, 0.85,\n",
       "                                                      0.9, 0.95, 1.0]},\n",
       "                   scoring='roc_auc')"
      ]
     },
     "execution_count": 47,
     "metadata": {},
     "output_type": "execute_result"
    }
   ],
   "source": [
    "gb = GradientBoostingClassifier(random_state=seed)\n",
    "gb_cv = RandomizedSearchCV(gb, param_distributions=gbParams, cv=5, scoring='roc_auc')\n",
    "gb_cv.fit(new_X_train_scaled, y_train)"
   ]
  },
  {
   "cell_type": "code",
   "execution_count": 48,
   "id": "366333cf",
   "metadata": {
    "execution": {
     "iopub.execute_input": "2024-01-28T16:43:02.053883Z",
     "iopub.status.busy": "2024-01-28T16:43:02.052954Z",
     "iopub.status.idle": "2024-01-28T16:43:02.058899Z",
     "shell.execute_reply": "2024-01-28T16:43:02.058030Z"
    },
    "papermill": {
     "duration": 0.042092,
     "end_time": "2024-01-28T16:43:02.060893",
     "exception": false,
     "start_time": "2024-01-28T16:43:02.018801",
     "status": "completed"
    },
    "tags": []
   },
   "outputs": [
    {
     "data": {
      "text/plain": [
       "0.8431547021126928"
      ]
     },
     "execution_count": 48,
     "metadata": {},
     "output_type": "execute_result"
    }
   ],
   "source": [
    "gb_cv.best_score_"
   ]
  },
  {
   "cell_type": "markdown",
   "id": "b8c64251",
   "metadata": {
    "papermill": {
     "duration": 0.032608,
     "end_time": "2024-01-28T16:43:02.126609",
     "exception": false,
     "start_time": "2024-01-28T16:43:02.094001",
     "status": "completed"
    },
    "tags": []
   },
   "source": [
    "## Cat Boost"
   ]
  },
  {
   "cell_type": "code",
   "execution_count": 49,
   "id": "d0c88cd5",
   "metadata": {
    "execution": {
     "iopub.execute_input": "2024-01-28T16:43:02.195039Z",
     "iopub.status.busy": "2024-01-28T16:43:02.194576Z",
     "iopub.status.idle": "2024-01-28T16:43:02.199691Z",
     "shell.execute_reply": "2024-01-28T16:43:02.198832Z"
    },
    "papermill": {
     "duration": 0.041961,
     "end_time": "2024-01-28T16:43:02.201654",
     "exception": false,
     "start_time": "2024-01-28T16:43:02.159693",
     "status": "completed"
    },
    "tags": []
   },
   "outputs": [],
   "source": [
    "cbParams = {'iterations': [100, 200, 300],\n",
    "          'depth': [4, 5, 6],\n",
    "          'loss_function': ['Logloss', 'CrossEntropy'],\n",
    "          'l2_leaf_reg': np.logspace(-20, -19, 3),\n",
    "          'leaf_estimation_iterations': [10],\n",
    "         }"
   ]
  },
  {
   "cell_type": "code",
   "execution_count": 50,
   "id": "5c509d59",
   "metadata": {
    "execution": {
     "iopub.execute_input": "2024-01-28T16:43:02.273042Z",
     "iopub.status.busy": "2024-01-28T16:43:02.272583Z",
     "iopub.status.idle": "2024-01-28T16:45:16.433557Z",
     "shell.execute_reply": "2024-01-28T16:45:16.432592Z"
    },
    "papermill": {
     "duration": 134.232034,
     "end_time": "2024-01-28T16:45:16.470068",
     "exception": false,
     "start_time": "2024-01-28T16:43:02.238034",
     "status": "completed"
    },
    "tags": []
   },
   "outputs": [
    {
     "data": {
      "text/html": [
       "<style>#sk-container-id-3 {color: black;background-color: white;}#sk-container-id-3 pre{padding: 0;}#sk-container-id-3 div.sk-toggleable {background-color: white;}#sk-container-id-3 label.sk-toggleable__label {cursor: pointer;display: block;width: 100%;margin-bottom: 0;padding: 0.3em;box-sizing: border-box;text-align: center;}#sk-container-id-3 label.sk-toggleable__label-arrow:before {content: \"▸\";float: left;margin-right: 0.25em;color: #696969;}#sk-container-id-3 label.sk-toggleable__label-arrow:hover:before {color: black;}#sk-container-id-3 div.sk-estimator:hover label.sk-toggleable__label-arrow:before {color: black;}#sk-container-id-3 div.sk-toggleable__content {max-height: 0;max-width: 0;overflow: hidden;text-align: left;background-color: #f0f8ff;}#sk-container-id-3 div.sk-toggleable__content pre {margin: 0.2em;color: black;border-radius: 0.25em;background-color: #f0f8ff;}#sk-container-id-3 input.sk-toggleable__control:checked~div.sk-toggleable__content {max-height: 200px;max-width: 100%;overflow: auto;}#sk-container-id-3 input.sk-toggleable__control:checked~label.sk-toggleable__label-arrow:before {content: \"▾\";}#sk-container-id-3 div.sk-estimator input.sk-toggleable__control:checked~label.sk-toggleable__label {background-color: #d4ebff;}#sk-container-id-3 div.sk-label input.sk-toggleable__control:checked~label.sk-toggleable__label {background-color: #d4ebff;}#sk-container-id-3 input.sk-hidden--visually {border: 0;clip: rect(1px 1px 1px 1px);clip: rect(1px, 1px, 1px, 1px);height: 1px;margin: -1px;overflow: hidden;padding: 0;position: absolute;width: 1px;}#sk-container-id-3 div.sk-estimator {font-family: monospace;background-color: #f0f8ff;border: 1px dotted black;border-radius: 0.25em;box-sizing: border-box;margin-bottom: 0.5em;}#sk-container-id-3 div.sk-estimator:hover {background-color: #d4ebff;}#sk-container-id-3 div.sk-parallel-item::after {content: \"\";width: 100%;border-bottom: 1px solid gray;flex-grow: 1;}#sk-container-id-3 div.sk-label:hover label.sk-toggleable__label {background-color: #d4ebff;}#sk-container-id-3 div.sk-serial::before {content: \"\";position: absolute;border-left: 1px solid gray;box-sizing: border-box;top: 0;bottom: 0;left: 50%;z-index: 0;}#sk-container-id-3 div.sk-serial {display: flex;flex-direction: column;align-items: center;background-color: white;padding-right: 0.2em;padding-left: 0.2em;position: relative;}#sk-container-id-3 div.sk-item {position: relative;z-index: 1;}#sk-container-id-3 div.sk-parallel {display: flex;align-items: stretch;justify-content: center;background-color: white;position: relative;}#sk-container-id-3 div.sk-item::before, #sk-container-id-3 div.sk-parallel-item::before {content: \"\";position: absolute;border-left: 1px solid gray;box-sizing: border-box;top: 0;bottom: 0;left: 50%;z-index: -1;}#sk-container-id-3 div.sk-parallel-item {display: flex;flex-direction: column;z-index: 1;position: relative;background-color: white;}#sk-container-id-3 div.sk-parallel-item:first-child::after {align-self: flex-end;width: 50%;}#sk-container-id-3 div.sk-parallel-item:last-child::after {align-self: flex-start;width: 50%;}#sk-container-id-3 div.sk-parallel-item:only-child::after {width: 0;}#sk-container-id-3 div.sk-dashed-wrapped {border: 1px dashed gray;margin: 0 0.4em 0.5em 0.4em;box-sizing: border-box;padding-bottom: 0.4em;background-color: white;}#sk-container-id-3 div.sk-label label {font-family: monospace;font-weight: bold;display: inline-block;line-height: 1.2em;}#sk-container-id-3 div.sk-label-container {text-align: center;}#sk-container-id-3 div.sk-container {/* jupyter's `normalize.less` sets `[hidden] { display: none; }` but bootstrap.min.css set `[hidden] { display: none !important; }` so we also need the `!important` here to be able to override the default hidden behavior on the sphinx rendered scikit-learn.org. See: https://github.com/scikit-learn/scikit-learn/issues/21755 */display: inline-block !important;position: relative;}#sk-container-id-3 div.sk-text-repr-fallback {display: none;}</style><div id=\"sk-container-id-3\" class=\"sk-top-container\"><div class=\"sk-text-repr-fallback\"><pre>RandomizedSearchCV(cv=5,\n",
       "                   estimator=&lt;catboost.core.CatBoostClassifier object at 0x7f6ee77064d0&gt;,\n",
       "                   param_distributions={&#x27;depth&#x27;: [4, 5, 6],\n",
       "                                        &#x27;iterations&#x27;: [100, 200, 300],\n",
       "                                        &#x27;l2_leaf_reg&#x27;: array([1.00000000e-20, 3.16227766e-20, 1.00000000e-19]),\n",
       "                                        &#x27;leaf_estimation_iterations&#x27;: [10],\n",
       "                                        &#x27;loss_function&#x27;: [&#x27;Logloss&#x27;,\n",
       "                                                          &#x27;CrossEntropy&#x27;]},\n",
       "                   scoring=&#x27;roc_auc&#x27;)</pre><b>In a Jupyter environment, please rerun this cell to show the HTML representation or trust the notebook. <br />On GitHub, the HTML representation is unable to render, please try loading this page with nbviewer.org.</b></div><div class=\"sk-container\" hidden><div class=\"sk-item sk-dashed-wrapped\"><div class=\"sk-label-container\"><div class=\"sk-label sk-toggleable\"><input class=\"sk-toggleable__control sk-hidden--visually\" id=\"sk-estimator-id-7\" type=\"checkbox\" ><label for=\"sk-estimator-id-7\" class=\"sk-toggleable__label sk-toggleable__label-arrow\">RandomizedSearchCV</label><div class=\"sk-toggleable__content\"><pre>RandomizedSearchCV(cv=5,\n",
       "                   estimator=&lt;catboost.core.CatBoostClassifier object at 0x7f6ee77064d0&gt;,\n",
       "                   param_distributions={&#x27;depth&#x27;: [4, 5, 6],\n",
       "                                        &#x27;iterations&#x27;: [100, 200, 300],\n",
       "                                        &#x27;l2_leaf_reg&#x27;: array([1.00000000e-20, 3.16227766e-20, 1.00000000e-19]),\n",
       "                                        &#x27;leaf_estimation_iterations&#x27;: [10],\n",
       "                                        &#x27;loss_function&#x27;: [&#x27;Logloss&#x27;,\n",
       "                                                          &#x27;CrossEntropy&#x27;]},\n",
       "                   scoring=&#x27;roc_auc&#x27;)</pre></div></div></div><div class=\"sk-parallel\"><div class=\"sk-parallel-item\"><div class=\"sk-item\"><div class=\"sk-label-container\"><div class=\"sk-label sk-toggleable\"><input class=\"sk-toggleable__control sk-hidden--visually\" id=\"sk-estimator-id-8\" type=\"checkbox\" ><label for=\"sk-estimator-id-8\" class=\"sk-toggleable__label sk-toggleable__label-arrow\">estimator: CatBoostClassifier</label><div class=\"sk-toggleable__content\"><pre>&lt;catboost.core.CatBoostClassifier object at 0x7f6ee77064d0&gt;</pre></div></div></div><div class=\"sk-serial\"><div class=\"sk-item\"><div class=\"sk-estimator sk-toggleable\"><input class=\"sk-toggleable__control sk-hidden--visually\" id=\"sk-estimator-id-9\" type=\"checkbox\" ><label for=\"sk-estimator-id-9\" class=\"sk-toggleable__label sk-toggleable__label-arrow\">CatBoostClassifier</label><div class=\"sk-toggleable__content\"><pre>&lt;catboost.core.CatBoostClassifier object at 0x7f6ee77064d0&gt;</pre></div></div></div></div></div></div></div></div></div></div>"
      ],
      "text/plain": [
       "RandomizedSearchCV(cv=5,\n",
       "                   estimator=<catboost.core.CatBoostClassifier object at 0x7f6ee77064d0>,\n",
       "                   param_distributions={'depth': [4, 5, 6],\n",
       "                                        'iterations': [100, 200, 300],\n",
       "                                        'l2_leaf_reg': array([1.00000000e-20, 3.16227766e-20, 1.00000000e-19]),\n",
       "                                        'leaf_estimation_iterations': [10],\n",
       "                                        'loss_function': ['Logloss',\n",
       "                                                          'CrossEntropy']},\n",
       "                   scoring='roc_auc')"
      ]
     },
     "execution_count": 50,
     "metadata": {},
     "output_type": "execute_result"
    }
   ],
   "source": [
    "cb = CatBoostClassifier(random_state=seed, verbose=False,)\n",
    "cb_cv = RandomizedSearchCV(cb, param_distributions=cbParams, cv=5, scoring='roc_auc')\n",
    "cb_cv.fit(new_X_train_scaled, y_train)"
   ]
  },
  {
   "cell_type": "code",
   "execution_count": 51,
   "id": "71b0c771",
   "metadata": {
    "execution": {
     "iopub.execute_input": "2024-01-28T16:45:16.541681Z",
     "iopub.status.busy": "2024-01-28T16:45:16.540902Z",
     "iopub.status.idle": "2024-01-28T16:45:16.546950Z",
     "shell.execute_reply": "2024-01-28T16:45:16.546043Z"
    },
    "papermill": {
     "duration": 0.043787,
     "end_time": "2024-01-28T16:45:16.548864",
     "exception": false,
     "start_time": "2024-01-28T16:45:16.505077",
     "status": "completed"
    },
    "tags": []
   },
   "outputs": [
    {
     "data": {
      "text/plain": [
       "0.8888463542664089"
      ]
     },
     "execution_count": 51,
     "metadata": {},
     "output_type": "execute_result"
    }
   ],
   "source": [
    "cb_cv.best_score_"
   ]
  },
  {
   "cell_type": "markdown",
   "id": "57055b34",
   "metadata": {
    "papermill": {
     "duration": 0.032901,
     "end_time": "2024-01-28T16:45:16.616012",
     "exception": false,
     "start_time": "2024-01-28T16:45:16.583111",
     "status": "completed"
    },
    "tags": []
   },
   "source": [
    "## XGBoost"
   ]
  },
  {
   "cell_type": "code",
   "execution_count": 52,
   "id": "07b2f4c2",
   "metadata": {
    "execution": {
     "iopub.execute_input": "2024-01-28T16:45:16.683078Z",
     "iopub.status.busy": "2024-01-28T16:45:16.682801Z",
     "iopub.status.idle": "2024-01-28T16:45:16.687436Z",
     "shell.execute_reply": "2024-01-28T16:45:16.686611Z"
    },
    "papermill": {
     "duration": 0.04059,
     "end_time": "2024-01-28T16:45:16.689276",
     "exception": false,
     "start_time": "2024-01-28T16:45:16.648686",
     "status": "completed"
    },
    "tags": []
   },
   "outputs": [],
   "source": [
    "xgbParams = {'max_depth': [4, 6, None],\n",
    "              'min_child_weight': [2, 3, 5],\n",
    "              'learning_rate': [0.01, 0.1, 0.2, 0.3],\n",
    "              'n_estimators': [5,10,15],\n",
    "              'subsample': [0.7],\n",
    "              'colsample_bytree': [0.7]\n",
    "              }"
   ]
  },
  {
   "cell_type": "code",
   "execution_count": 53,
   "id": "65c2aa93",
   "metadata": {
    "execution": {
     "iopub.execute_input": "2024-01-28T16:45:16.756849Z",
     "iopub.status.busy": "2024-01-28T16:45:16.756104Z",
     "iopub.status.idle": "2024-01-28T16:45:27.911450Z",
     "shell.execute_reply": "2024-01-28T16:45:27.910555Z"
    },
    "papermill": {
     "duration": 11.191486,
     "end_time": "2024-01-28T16:45:27.913459",
     "exception": false,
     "start_time": "2024-01-28T16:45:16.721973",
     "status": "completed"
    },
    "tags": []
   },
   "outputs": [
    {
     "data": {
      "text/html": [
       "<style>#sk-container-id-4 {color: black;background-color: white;}#sk-container-id-4 pre{padding: 0;}#sk-container-id-4 div.sk-toggleable {background-color: white;}#sk-container-id-4 label.sk-toggleable__label {cursor: pointer;display: block;width: 100%;margin-bottom: 0;padding: 0.3em;box-sizing: border-box;text-align: center;}#sk-container-id-4 label.sk-toggleable__label-arrow:before {content: \"▸\";float: left;margin-right: 0.25em;color: #696969;}#sk-container-id-4 label.sk-toggleable__label-arrow:hover:before {color: black;}#sk-container-id-4 div.sk-estimator:hover label.sk-toggleable__label-arrow:before {color: black;}#sk-container-id-4 div.sk-toggleable__content {max-height: 0;max-width: 0;overflow: hidden;text-align: left;background-color: #f0f8ff;}#sk-container-id-4 div.sk-toggleable__content pre {margin: 0.2em;color: black;border-radius: 0.25em;background-color: #f0f8ff;}#sk-container-id-4 input.sk-toggleable__control:checked~div.sk-toggleable__content {max-height: 200px;max-width: 100%;overflow: auto;}#sk-container-id-4 input.sk-toggleable__control:checked~label.sk-toggleable__label-arrow:before {content: \"▾\";}#sk-container-id-4 div.sk-estimator input.sk-toggleable__control:checked~label.sk-toggleable__label {background-color: #d4ebff;}#sk-container-id-4 div.sk-label input.sk-toggleable__control:checked~label.sk-toggleable__label {background-color: #d4ebff;}#sk-container-id-4 input.sk-hidden--visually {border: 0;clip: rect(1px 1px 1px 1px);clip: rect(1px, 1px, 1px, 1px);height: 1px;margin: -1px;overflow: hidden;padding: 0;position: absolute;width: 1px;}#sk-container-id-4 div.sk-estimator {font-family: monospace;background-color: #f0f8ff;border: 1px dotted black;border-radius: 0.25em;box-sizing: border-box;margin-bottom: 0.5em;}#sk-container-id-4 div.sk-estimator:hover {background-color: #d4ebff;}#sk-container-id-4 div.sk-parallel-item::after {content: \"\";width: 100%;border-bottom: 1px solid gray;flex-grow: 1;}#sk-container-id-4 div.sk-label:hover label.sk-toggleable__label {background-color: #d4ebff;}#sk-container-id-4 div.sk-serial::before {content: \"\";position: absolute;border-left: 1px solid gray;box-sizing: border-box;top: 0;bottom: 0;left: 50%;z-index: 0;}#sk-container-id-4 div.sk-serial {display: flex;flex-direction: column;align-items: center;background-color: white;padding-right: 0.2em;padding-left: 0.2em;position: relative;}#sk-container-id-4 div.sk-item {position: relative;z-index: 1;}#sk-container-id-4 div.sk-parallel {display: flex;align-items: stretch;justify-content: center;background-color: white;position: relative;}#sk-container-id-4 div.sk-item::before, #sk-container-id-4 div.sk-parallel-item::before {content: \"\";position: absolute;border-left: 1px solid gray;box-sizing: border-box;top: 0;bottom: 0;left: 50%;z-index: -1;}#sk-container-id-4 div.sk-parallel-item {display: flex;flex-direction: column;z-index: 1;position: relative;background-color: white;}#sk-container-id-4 div.sk-parallel-item:first-child::after {align-self: flex-end;width: 50%;}#sk-container-id-4 div.sk-parallel-item:last-child::after {align-self: flex-start;width: 50%;}#sk-container-id-4 div.sk-parallel-item:only-child::after {width: 0;}#sk-container-id-4 div.sk-dashed-wrapped {border: 1px dashed gray;margin: 0 0.4em 0.5em 0.4em;box-sizing: border-box;padding-bottom: 0.4em;background-color: white;}#sk-container-id-4 div.sk-label label {font-family: monospace;font-weight: bold;display: inline-block;line-height: 1.2em;}#sk-container-id-4 div.sk-label-container {text-align: center;}#sk-container-id-4 div.sk-container {/* jupyter's `normalize.less` sets `[hidden] { display: none; }` but bootstrap.min.css set `[hidden] { display: none !important; }` so we also need the `!important` here to be able to override the default hidden behavior on the sphinx rendered scikit-learn.org. See: https://github.com/scikit-learn/scikit-learn/issues/21755 */display: inline-block !important;position: relative;}#sk-container-id-4 div.sk-text-repr-fallback {display: none;}</style><div id=\"sk-container-id-4\" class=\"sk-top-container\"><div class=\"sk-text-repr-fallback\"><pre>RandomizedSearchCV(cv=5,\n",
       "                   estimator=XGBClassifier(base_score=None, booster=None,\n",
       "                                           callbacks=None,\n",
       "                                           colsample_bylevel=None,\n",
       "                                           colsample_bynode=None,\n",
       "                                           colsample_bytree=None, device=None,\n",
       "                                           early_stopping_rounds=None,\n",
       "                                           enable_categorical=False,\n",
       "                                           eval_metric=None, feature_types=None,\n",
       "                                           gamma=None, grow_policy=None,\n",
       "                                           importance_type=None,\n",
       "                                           interaction_constraints=None,\n",
       "                                           learning_rate...\n",
       "                                           max_leaves=None,\n",
       "                                           min_child_weight=None, missing=nan,\n",
       "                                           monotone_constraints=None,\n",
       "                                           multi_strategy=None,\n",
       "                                           n_estimators=None, n_jobs=None,\n",
       "                                           num_parallel_tree=None,\n",
       "                                           random_state=42, ...),\n",
       "                   param_distributions={&#x27;colsample_bytree&#x27;: [0.7],\n",
       "                                        &#x27;learning_rate&#x27;: [0.01, 0.1, 0.2, 0.3],\n",
       "                                        &#x27;max_depth&#x27;: [4, 6, None],\n",
       "                                        &#x27;min_child_weight&#x27;: [2, 3, 5],\n",
       "                                        &#x27;n_estimators&#x27;: [5, 10, 15],\n",
       "                                        &#x27;subsample&#x27;: [0.7]},\n",
       "                   scoring=&#x27;roc_auc&#x27;)</pre><b>In a Jupyter environment, please rerun this cell to show the HTML representation or trust the notebook. <br />On GitHub, the HTML representation is unable to render, please try loading this page with nbviewer.org.</b></div><div class=\"sk-container\" hidden><div class=\"sk-item sk-dashed-wrapped\"><div class=\"sk-label-container\"><div class=\"sk-label sk-toggleable\"><input class=\"sk-toggleable__control sk-hidden--visually\" id=\"sk-estimator-id-10\" type=\"checkbox\" ><label for=\"sk-estimator-id-10\" class=\"sk-toggleable__label sk-toggleable__label-arrow\">RandomizedSearchCV</label><div class=\"sk-toggleable__content\"><pre>RandomizedSearchCV(cv=5,\n",
       "                   estimator=XGBClassifier(base_score=None, booster=None,\n",
       "                                           callbacks=None,\n",
       "                                           colsample_bylevel=None,\n",
       "                                           colsample_bynode=None,\n",
       "                                           colsample_bytree=None, device=None,\n",
       "                                           early_stopping_rounds=None,\n",
       "                                           enable_categorical=False,\n",
       "                                           eval_metric=None, feature_types=None,\n",
       "                                           gamma=None, grow_policy=None,\n",
       "                                           importance_type=None,\n",
       "                                           interaction_constraints=None,\n",
       "                                           learning_rate...\n",
       "                                           max_leaves=None,\n",
       "                                           min_child_weight=None, missing=nan,\n",
       "                                           monotone_constraints=None,\n",
       "                                           multi_strategy=None,\n",
       "                                           n_estimators=None, n_jobs=None,\n",
       "                                           num_parallel_tree=None,\n",
       "                                           random_state=42, ...),\n",
       "                   param_distributions={&#x27;colsample_bytree&#x27;: [0.7],\n",
       "                                        &#x27;learning_rate&#x27;: [0.01, 0.1, 0.2, 0.3],\n",
       "                                        &#x27;max_depth&#x27;: [4, 6, None],\n",
       "                                        &#x27;min_child_weight&#x27;: [2, 3, 5],\n",
       "                                        &#x27;n_estimators&#x27;: [5, 10, 15],\n",
       "                                        &#x27;subsample&#x27;: [0.7]},\n",
       "                   scoring=&#x27;roc_auc&#x27;)</pre></div></div></div><div class=\"sk-parallel\"><div class=\"sk-parallel-item\"><div class=\"sk-item\"><div class=\"sk-label-container\"><div class=\"sk-label sk-toggleable\"><input class=\"sk-toggleable__control sk-hidden--visually\" id=\"sk-estimator-id-11\" type=\"checkbox\" ><label for=\"sk-estimator-id-11\" class=\"sk-toggleable__label sk-toggleable__label-arrow\">estimator: XGBClassifier</label><div class=\"sk-toggleable__content\"><pre>XGBClassifier(base_score=None, booster=None, callbacks=None,\n",
       "              colsample_bylevel=None, colsample_bynode=None,\n",
       "              colsample_bytree=None, device=None, early_stopping_rounds=None,\n",
       "              enable_categorical=False, eval_metric=None, feature_types=None,\n",
       "              gamma=None, grow_policy=None, importance_type=None,\n",
       "              interaction_constraints=None, learning_rate=None, max_bin=None,\n",
       "              max_cat_threshold=None, max_cat_to_onehot=None,\n",
       "              max_delta_step=None, max_depth=None, max_leaves=None,\n",
       "              min_child_weight=None, missing=nan, monotone_constraints=None,\n",
       "              multi_strategy=None, n_estimators=None, n_jobs=None,\n",
       "              num_parallel_tree=None, random_state=42, ...)</pre></div></div></div><div class=\"sk-serial\"><div class=\"sk-item\"><div class=\"sk-estimator sk-toggleable\"><input class=\"sk-toggleable__control sk-hidden--visually\" id=\"sk-estimator-id-12\" type=\"checkbox\" ><label for=\"sk-estimator-id-12\" class=\"sk-toggleable__label sk-toggleable__label-arrow\">XGBClassifier</label><div class=\"sk-toggleable__content\"><pre>XGBClassifier(base_score=None, booster=None, callbacks=None,\n",
       "              colsample_bylevel=None, colsample_bynode=None,\n",
       "              colsample_bytree=None, device=None, early_stopping_rounds=None,\n",
       "              enable_categorical=False, eval_metric=None, feature_types=None,\n",
       "              gamma=None, grow_policy=None, importance_type=None,\n",
       "              interaction_constraints=None, learning_rate=None, max_bin=None,\n",
       "              max_cat_threshold=None, max_cat_to_onehot=None,\n",
       "              max_delta_step=None, max_depth=None, max_leaves=None,\n",
       "              min_child_weight=None, missing=nan, monotone_constraints=None,\n",
       "              multi_strategy=None, n_estimators=None, n_jobs=None,\n",
       "              num_parallel_tree=None, random_state=42, ...)</pre></div></div></div></div></div></div></div></div></div></div>"
      ],
      "text/plain": [
       "RandomizedSearchCV(cv=5,\n",
       "                   estimator=XGBClassifier(base_score=None, booster=None,\n",
       "                                           callbacks=None,\n",
       "                                           colsample_bylevel=None,\n",
       "                                           colsample_bynode=None,\n",
       "                                           colsample_bytree=None, device=None,\n",
       "                                           early_stopping_rounds=None,\n",
       "                                           enable_categorical=False,\n",
       "                                           eval_metric=None, feature_types=None,\n",
       "                                           gamma=None, grow_policy=None,\n",
       "                                           importance_type=None,\n",
       "                                           interaction_constraints=None,\n",
       "                                           learning_rate...\n",
       "                                           max_leaves=None,\n",
       "                                           min_child_weight=None, missing=nan,\n",
       "                                           monotone_constraints=None,\n",
       "                                           multi_strategy=None,\n",
       "                                           n_estimators=None, n_jobs=None,\n",
       "                                           num_parallel_tree=None,\n",
       "                                           random_state=42, ...),\n",
       "                   param_distributions={'colsample_bytree': [0.7],\n",
       "                                        'learning_rate': [0.01, 0.1, 0.2, 0.3],\n",
       "                                        'max_depth': [4, 6, None],\n",
       "                                        'min_child_weight': [2, 3, 5],\n",
       "                                        'n_estimators': [5, 10, 15],\n",
       "                                        'subsample': [0.7]},\n",
       "                   scoring='roc_auc')"
      ]
     },
     "execution_count": 53,
     "metadata": {},
     "output_type": "execute_result"
    }
   ],
   "source": [
    "xgb = XGBClassifier(random_state=seed)\n",
    "xgb_cv = RandomizedSearchCV(xgb, param_distributions=xgbParams, cv=5, scoring='roc_auc')\n",
    "xgb_cv.fit(new_X_train_scaled, y_train)"
   ]
  },
  {
   "cell_type": "code",
   "execution_count": 54,
   "id": "b15281a2",
   "metadata": {
    "execution": {
     "iopub.execute_input": "2024-01-28T16:45:27.982334Z",
     "iopub.status.busy": "2024-01-28T16:45:27.982037Z",
     "iopub.status.idle": "2024-01-28T16:45:27.987566Z",
     "shell.execute_reply": "2024-01-28T16:45:27.986699Z"
    },
    "papermill": {
     "duration": 0.04199,
     "end_time": "2024-01-28T16:45:27.989533",
     "exception": false,
     "start_time": "2024-01-28T16:45:27.947543",
     "status": "completed"
    },
    "tags": []
   },
   "outputs": [
    {
     "data": {
      "text/plain": [
       "0.8870961289365716"
      ]
     },
     "execution_count": 54,
     "metadata": {},
     "output_type": "execute_result"
    }
   ],
   "source": [
    "xgb_cv.best_score_"
   ]
  },
  {
   "cell_type": "markdown",
   "id": "a175abb6",
   "metadata": {
    "papermill": {
     "duration": 0.034151,
     "end_time": "2024-01-28T16:45:28.058891",
     "exception": false,
     "start_time": "2024-01-28T16:45:28.024740",
     "status": "completed"
    },
    "tags": []
   },
   "source": [
    "## AdaBoost"
   ]
  },
  {
   "cell_type": "code",
   "execution_count": 55,
   "id": "4da501ce",
   "metadata": {
    "execution": {
     "iopub.execute_input": "2024-01-28T16:45:28.129098Z",
     "iopub.status.busy": "2024-01-28T16:45:28.128432Z",
     "iopub.status.idle": "2024-01-28T16:45:28.133108Z",
     "shell.execute_reply": "2024-01-28T16:45:28.132257Z"
    },
    "papermill": {
     "duration": 0.041226,
     "end_time": "2024-01-28T16:45:28.135055",
     "exception": false,
     "start_time": "2024-01-28T16:45:28.093829",
     "status": "completed"
    },
    "tags": []
   },
   "outputs": [],
   "source": [
    "adaParams = {\n",
    "    'n_estimators': [5, 10, 20, 50],\n",
    "    'learning_rate': [0.01, 0.05, 0.1, 0.5],\n",
    "    'algorithm': ['SAMME', 'SAMME.R']\n",
    "}"
   ]
  },
  {
   "cell_type": "code",
   "execution_count": 56,
   "id": "fc3040e7",
   "metadata": {
    "execution": {
     "iopub.execute_input": "2024-01-28T16:45:28.203272Z",
     "iopub.status.busy": "2024-01-28T16:45:28.202559Z",
     "iopub.status.idle": "2024-01-28T16:46:42.587024Z",
     "shell.execute_reply": "2024-01-28T16:46:42.586087Z"
    },
    "papermill": {
     "duration": 74.455689,
     "end_time": "2024-01-28T16:46:42.623971",
     "exception": false,
     "start_time": "2024-01-28T16:45:28.168282",
     "status": "completed"
    },
    "tags": []
   },
   "outputs": [
    {
     "data": {
      "text/html": [
       "<style>#sk-container-id-5 {color: black;background-color: white;}#sk-container-id-5 pre{padding: 0;}#sk-container-id-5 div.sk-toggleable {background-color: white;}#sk-container-id-5 label.sk-toggleable__label {cursor: pointer;display: block;width: 100%;margin-bottom: 0;padding: 0.3em;box-sizing: border-box;text-align: center;}#sk-container-id-5 label.sk-toggleable__label-arrow:before {content: \"▸\";float: left;margin-right: 0.25em;color: #696969;}#sk-container-id-5 label.sk-toggleable__label-arrow:hover:before {color: black;}#sk-container-id-5 div.sk-estimator:hover label.sk-toggleable__label-arrow:before {color: black;}#sk-container-id-5 div.sk-toggleable__content {max-height: 0;max-width: 0;overflow: hidden;text-align: left;background-color: #f0f8ff;}#sk-container-id-5 div.sk-toggleable__content pre {margin: 0.2em;color: black;border-radius: 0.25em;background-color: #f0f8ff;}#sk-container-id-5 input.sk-toggleable__control:checked~div.sk-toggleable__content {max-height: 200px;max-width: 100%;overflow: auto;}#sk-container-id-5 input.sk-toggleable__control:checked~label.sk-toggleable__label-arrow:before {content: \"▾\";}#sk-container-id-5 div.sk-estimator input.sk-toggleable__control:checked~label.sk-toggleable__label {background-color: #d4ebff;}#sk-container-id-5 div.sk-label input.sk-toggleable__control:checked~label.sk-toggleable__label {background-color: #d4ebff;}#sk-container-id-5 input.sk-hidden--visually {border: 0;clip: rect(1px 1px 1px 1px);clip: rect(1px, 1px, 1px, 1px);height: 1px;margin: -1px;overflow: hidden;padding: 0;position: absolute;width: 1px;}#sk-container-id-5 div.sk-estimator {font-family: monospace;background-color: #f0f8ff;border: 1px dotted black;border-radius: 0.25em;box-sizing: border-box;margin-bottom: 0.5em;}#sk-container-id-5 div.sk-estimator:hover {background-color: #d4ebff;}#sk-container-id-5 div.sk-parallel-item::after {content: \"\";width: 100%;border-bottom: 1px solid gray;flex-grow: 1;}#sk-container-id-5 div.sk-label:hover label.sk-toggleable__label {background-color: #d4ebff;}#sk-container-id-5 div.sk-serial::before {content: \"\";position: absolute;border-left: 1px solid gray;box-sizing: border-box;top: 0;bottom: 0;left: 50%;z-index: 0;}#sk-container-id-5 div.sk-serial {display: flex;flex-direction: column;align-items: center;background-color: white;padding-right: 0.2em;padding-left: 0.2em;position: relative;}#sk-container-id-5 div.sk-item {position: relative;z-index: 1;}#sk-container-id-5 div.sk-parallel {display: flex;align-items: stretch;justify-content: center;background-color: white;position: relative;}#sk-container-id-5 div.sk-item::before, #sk-container-id-5 div.sk-parallel-item::before {content: \"\";position: absolute;border-left: 1px solid gray;box-sizing: border-box;top: 0;bottom: 0;left: 50%;z-index: -1;}#sk-container-id-5 div.sk-parallel-item {display: flex;flex-direction: column;z-index: 1;position: relative;background-color: white;}#sk-container-id-5 div.sk-parallel-item:first-child::after {align-self: flex-end;width: 50%;}#sk-container-id-5 div.sk-parallel-item:last-child::after {align-self: flex-start;width: 50%;}#sk-container-id-5 div.sk-parallel-item:only-child::after {width: 0;}#sk-container-id-5 div.sk-dashed-wrapped {border: 1px dashed gray;margin: 0 0.4em 0.5em 0.4em;box-sizing: border-box;padding-bottom: 0.4em;background-color: white;}#sk-container-id-5 div.sk-label label {font-family: monospace;font-weight: bold;display: inline-block;line-height: 1.2em;}#sk-container-id-5 div.sk-label-container {text-align: center;}#sk-container-id-5 div.sk-container {/* jupyter's `normalize.less` sets `[hidden] { display: none; }` but bootstrap.min.css set `[hidden] { display: none !important; }` so we also need the `!important` here to be able to override the default hidden behavior on the sphinx rendered scikit-learn.org. See: https://github.com/scikit-learn/scikit-learn/issues/21755 */display: inline-block !important;position: relative;}#sk-container-id-5 div.sk-text-repr-fallback {display: none;}</style><div id=\"sk-container-id-5\" class=\"sk-top-container\"><div class=\"sk-text-repr-fallback\"><pre>RandomizedSearchCV(cv=5, estimator=AdaBoostClassifier(random_state=42),\n",
       "                   param_distributions={&#x27;algorithm&#x27;: [&#x27;SAMME&#x27;, &#x27;SAMME.R&#x27;],\n",
       "                                        &#x27;learning_rate&#x27;: [0.01, 0.05, 0.1, 0.5],\n",
       "                                        &#x27;n_estimators&#x27;: [5, 10, 20, 50]},\n",
       "                   scoring=&#x27;roc_auc&#x27;)</pre><b>In a Jupyter environment, please rerun this cell to show the HTML representation or trust the notebook. <br />On GitHub, the HTML representation is unable to render, please try loading this page with nbviewer.org.</b></div><div class=\"sk-container\" hidden><div class=\"sk-item sk-dashed-wrapped\"><div class=\"sk-label-container\"><div class=\"sk-label sk-toggleable\"><input class=\"sk-toggleable__control sk-hidden--visually\" id=\"sk-estimator-id-13\" type=\"checkbox\" ><label for=\"sk-estimator-id-13\" class=\"sk-toggleable__label sk-toggleable__label-arrow\">RandomizedSearchCV</label><div class=\"sk-toggleable__content\"><pre>RandomizedSearchCV(cv=5, estimator=AdaBoostClassifier(random_state=42),\n",
       "                   param_distributions={&#x27;algorithm&#x27;: [&#x27;SAMME&#x27;, &#x27;SAMME.R&#x27;],\n",
       "                                        &#x27;learning_rate&#x27;: [0.01, 0.05, 0.1, 0.5],\n",
       "                                        &#x27;n_estimators&#x27;: [5, 10, 20, 50]},\n",
       "                   scoring=&#x27;roc_auc&#x27;)</pre></div></div></div><div class=\"sk-parallel\"><div class=\"sk-parallel-item\"><div class=\"sk-item\"><div class=\"sk-label-container\"><div class=\"sk-label sk-toggleable\"><input class=\"sk-toggleable__control sk-hidden--visually\" id=\"sk-estimator-id-14\" type=\"checkbox\" ><label for=\"sk-estimator-id-14\" class=\"sk-toggleable__label sk-toggleable__label-arrow\">estimator: AdaBoostClassifier</label><div class=\"sk-toggleable__content\"><pre>AdaBoostClassifier(random_state=42)</pre></div></div></div><div class=\"sk-serial\"><div class=\"sk-item\"><div class=\"sk-estimator sk-toggleable\"><input class=\"sk-toggleable__control sk-hidden--visually\" id=\"sk-estimator-id-15\" type=\"checkbox\" ><label for=\"sk-estimator-id-15\" class=\"sk-toggleable__label sk-toggleable__label-arrow\">AdaBoostClassifier</label><div class=\"sk-toggleable__content\"><pre>AdaBoostClassifier(random_state=42)</pre></div></div></div></div></div></div></div></div></div></div>"
      ],
      "text/plain": [
       "RandomizedSearchCV(cv=5, estimator=AdaBoostClassifier(random_state=42),\n",
       "                   param_distributions={'algorithm': ['SAMME', 'SAMME.R'],\n",
       "                                        'learning_rate': [0.01, 0.05, 0.1, 0.5],\n",
       "                                        'n_estimators': [5, 10, 20, 50]},\n",
       "                   scoring='roc_auc')"
      ]
     },
     "execution_count": 56,
     "metadata": {},
     "output_type": "execute_result"
    }
   ],
   "source": [
    "ada = AdaBoostClassifier(random_state=seed)\n",
    "ada_cv = RandomizedSearchCV(ada, param_distributions=adaParams, cv=5, scoring='roc_auc')\n",
    "ada_cv.fit(new_X_train_scaled, y_train)"
   ]
  },
  {
   "cell_type": "code",
   "execution_count": 57,
   "id": "cd7518d3",
   "metadata": {
    "execution": {
     "iopub.execute_input": "2024-01-28T16:46:42.694383Z",
     "iopub.status.busy": "2024-01-28T16:46:42.693541Z",
     "iopub.status.idle": "2024-01-28T16:46:42.699365Z",
     "shell.execute_reply": "2024-01-28T16:46:42.698516Z"
    },
    "papermill": {
     "duration": 0.043114,
     "end_time": "2024-01-28T16:46:42.701324",
     "exception": false,
     "start_time": "2024-01-28T16:46:42.658210",
     "status": "completed"
    },
    "tags": []
   },
   "outputs": [
    {
     "data": {
      "text/plain": [
       "0.8692412213194777"
      ]
     },
     "execution_count": 57,
     "metadata": {},
     "output_type": "execute_result"
    }
   ],
   "source": [
    "ada_cv.best_score_"
   ]
  },
  {
   "cell_type": "markdown",
   "id": "92474535",
   "metadata": {
    "papermill": {
     "duration": 0.035071,
     "end_time": "2024-01-28T16:46:42.771063",
     "exception": false,
     "start_time": "2024-01-28T16:46:42.735992",
     "status": "completed"
    },
    "tags": []
   },
   "source": [
    "## Random Forest"
   ]
  },
  {
   "cell_type": "code",
   "execution_count": 58,
   "id": "4acd1285",
   "metadata": {
    "execution": {
     "iopub.execute_input": "2024-01-28T16:46:42.841645Z",
     "iopub.status.busy": "2024-01-28T16:46:42.840750Z",
     "iopub.status.idle": "2024-01-28T16:46:42.845927Z",
     "shell.execute_reply": "2024-01-28T16:46:42.844999Z"
    },
    "papermill": {
     "duration": 0.042446,
     "end_time": "2024-01-28T16:46:42.847964",
     "exception": false,
     "start_time": "2024-01-28T16:46:42.805518",
     "status": "completed"
    },
    "tags": []
   },
   "outputs": [],
   "source": [
    "rfParams = {'max_depth': [3,5], \n",
    "             'min_samples_leaf': [1,2,3],\n",
    "             'min_samples_split': [2,3,],\n",
    "             'n_estimators': [100, 200],\n",
    "             }"
   ]
  },
  {
   "cell_type": "code",
   "execution_count": 59,
   "id": "928a426d",
   "metadata": {
    "execution": {
     "iopub.execute_input": "2024-01-28T16:46:42.917981Z",
     "iopub.status.busy": "2024-01-28T16:46:42.917632Z",
     "iopub.status.idle": "2024-01-28T16:53:26.270436Z",
     "shell.execute_reply": "2024-01-28T16:53:26.269260Z"
    },
    "papermill": {
     "duration": 403.424786,
     "end_time": "2024-01-28T16:53:26.307187",
     "exception": false,
     "start_time": "2024-01-28T16:46:42.882401",
     "status": "completed"
    },
    "tags": []
   },
   "outputs": [
    {
     "data": {
      "text/html": [
       "<style>#sk-container-id-6 {color: black;background-color: white;}#sk-container-id-6 pre{padding: 0;}#sk-container-id-6 div.sk-toggleable {background-color: white;}#sk-container-id-6 label.sk-toggleable__label {cursor: pointer;display: block;width: 100%;margin-bottom: 0;padding: 0.3em;box-sizing: border-box;text-align: center;}#sk-container-id-6 label.sk-toggleable__label-arrow:before {content: \"▸\";float: left;margin-right: 0.25em;color: #696969;}#sk-container-id-6 label.sk-toggleable__label-arrow:hover:before {color: black;}#sk-container-id-6 div.sk-estimator:hover label.sk-toggleable__label-arrow:before {color: black;}#sk-container-id-6 div.sk-toggleable__content {max-height: 0;max-width: 0;overflow: hidden;text-align: left;background-color: #f0f8ff;}#sk-container-id-6 div.sk-toggleable__content pre {margin: 0.2em;color: black;border-radius: 0.25em;background-color: #f0f8ff;}#sk-container-id-6 input.sk-toggleable__control:checked~div.sk-toggleable__content {max-height: 200px;max-width: 100%;overflow: auto;}#sk-container-id-6 input.sk-toggleable__control:checked~label.sk-toggleable__label-arrow:before {content: \"▾\";}#sk-container-id-6 div.sk-estimator input.sk-toggleable__control:checked~label.sk-toggleable__label {background-color: #d4ebff;}#sk-container-id-6 div.sk-label input.sk-toggleable__control:checked~label.sk-toggleable__label {background-color: #d4ebff;}#sk-container-id-6 input.sk-hidden--visually {border: 0;clip: rect(1px 1px 1px 1px);clip: rect(1px, 1px, 1px, 1px);height: 1px;margin: -1px;overflow: hidden;padding: 0;position: absolute;width: 1px;}#sk-container-id-6 div.sk-estimator {font-family: monospace;background-color: #f0f8ff;border: 1px dotted black;border-radius: 0.25em;box-sizing: border-box;margin-bottom: 0.5em;}#sk-container-id-6 div.sk-estimator:hover {background-color: #d4ebff;}#sk-container-id-6 div.sk-parallel-item::after {content: \"\";width: 100%;border-bottom: 1px solid gray;flex-grow: 1;}#sk-container-id-6 div.sk-label:hover label.sk-toggleable__label {background-color: #d4ebff;}#sk-container-id-6 div.sk-serial::before {content: \"\";position: absolute;border-left: 1px solid gray;box-sizing: border-box;top: 0;bottom: 0;left: 50%;z-index: 0;}#sk-container-id-6 div.sk-serial {display: flex;flex-direction: column;align-items: center;background-color: white;padding-right: 0.2em;padding-left: 0.2em;position: relative;}#sk-container-id-6 div.sk-item {position: relative;z-index: 1;}#sk-container-id-6 div.sk-parallel {display: flex;align-items: stretch;justify-content: center;background-color: white;position: relative;}#sk-container-id-6 div.sk-item::before, #sk-container-id-6 div.sk-parallel-item::before {content: \"\";position: absolute;border-left: 1px solid gray;box-sizing: border-box;top: 0;bottom: 0;left: 50%;z-index: -1;}#sk-container-id-6 div.sk-parallel-item {display: flex;flex-direction: column;z-index: 1;position: relative;background-color: white;}#sk-container-id-6 div.sk-parallel-item:first-child::after {align-self: flex-end;width: 50%;}#sk-container-id-6 div.sk-parallel-item:last-child::after {align-self: flex-start;width: 50%;}#sk-container-id-6 div.sk-parallel-item:only-child::after {width: 0;}#sk-container-id-6 div.sk-dashed-wrapped {border: 1px dashed gray;margin: 0 0.4em 0.5em 0.4em;box-sizing: border-box;padding-bottom: 0.4em;background-color: white;}#sk-container-id-6 div.sk-label label {font-family: monospace;font-weight: bold;display: inline-block;line-height: 1.2em;}#sk-container-id-6 div.sk-label-container {text-align: center;}#sk-container-id-6 div.sk-container {/* jupyter's `normalize.less` sets `[hidden] { display: none; }` but bootstrap.min.css set `[hidden] { display: none !important; }` so we also need the `!important` here to be able to override the default hidden behavior on the sphinx rendered scikit-learn.org. See: https://github.com/scikit-learn/scikit-learn/issues/21755 */display: inline-block !important;position: relative;}#sk-container-id-6 div.sk-text-repr-fallback {display: none;}</style><div id=\"sk-container-id-6\" class=\"sk-top-container\"><div class=\"sk-text-repr-fallback\"><pre>RandomizedSearchCV(cv=5, estimator=RandomForestClassifier(random_state=42),\n",
       "                   param_distributions={&#x27;max_depth&#x27;: [3, 5],\n",
       "                                        &#x27;min_samples_leaf&#x27;: [1, 2, 3],\n",
       "                                        &#x27;min_samples_split&#x27;: [2, 3],\n",
       "                                        &#x27;n_estimators&#x27;: [100, 200]},\n",
       "                   scoring=&#x27;roc_auc&#x27;)</pre><b>In a Jupyter environment, please rerun this cell to show the HTML representation or trust the notebook. <br />On GitHub, the HTML representation is unable to render, please try loading this page with nbviewer.org.</b></div><div class=\"sk-container\" hidden><div class=\"sk-item sk-dashed-wrapped\"><div class=\"sk-label-container\"><div class=\"sk-label sk-toggleable\"><input class=\"sk-toggleable__control sk-hidden--visually\" id=\"sk-estimator-id-16\" type=\"checkbox\" ><label for=\"sk-estimator-id-16\" class=\"sk-toggleable__label sk-toggleable__label-arrow\">RandomizedSearchCV</label><div class=\"sk-toggleable__content\"><pre>RandomizedSearchCV(cv=5, estimator=RandomForestClassifier(random_state=42),\n",
       "                   param_distributions={&#x27;max_depth&#x27;: [3, 5],\n",
       "                                        &#x27;min_samples_leaf&#x27;: [1, 2, 3],\n",
       "                                        &#x27;min_samples_split&#x27;: [2, 3],\n",
       "                                        &#x27;n_estimators&#x27;: [100, 200]},\n",
       "                   scoring=&#x27;roc_auc&#x27;)</pre></div></div></div><div class=\"sk-parallel\"><div class=\"sk-parallel-item\"><div class=\"sk-item\"><div class=\"sk-label-container\"><div class=\"sk-label sk-toggleable\"><input class=\"sk-toggleable__control sk-hidden--visually\" id=\"sk-estimator-id-17\" type=\"checkbox\" ><label for=\"sk-estimator-id-17\" class=\"sk-toggleable__label sk-toggleable__label-arrow\">estimator: RandomForestClassifier</label><div class=\"sk-toggleable__content\"><pre>RandomForestClassifier(random_state=42)</pre></div></div></div><div class=\"sk-serial\"><div class=\"sk-item\"><div class=\"sk-estimator sk-toggleable\"><input class=\"sk-toggleable__control sk-hidden--visually\" id=\"sk-estimator-id-18\" type=\"checkbox\" ><label for=\"sk-estimator-id-18\" class=\"sk-toggleable__label sk-toggleable__label-arrow\">RandomForestClassifier</label><div class=\"sk-toggleable__content\"><pre>RandomForestClassifier(random_state=42)</pre></div></div></div></div></div></div></div></div></div></div>"
      ],
      "text/plain": [
       "RandomizedSearchCV(cv=5, estimator=RandomForestClassifier(random_state=42),\n",
       "                   param_distributions={'max_depth': [3, 5],\n",
       "                                        'min_samples_leaf': [1, 2, 3],\n",
       "                                        'min_samples_split': [2, 3],\n",
       "                                        'n_estimators': [100, 200]},\n",
       "                   scoring='roc_auc')"
      ]
     },
     "execution_count": 59,
     "metadata": {},
     "output_type": "execute_result"
    }
   ],
   "source": [
    "rf = RandomForestClassifier(random_state=seed)\n",
    "rf_cv = RandomizedSearchCV(rf, param_distributions=rfParams, cv=5, scoring='roc_auc')\n",
    "rf_cv.fit(new_X_train_scaled, y_train)"
   ]
  },
  {
   "cell_type": "code",
   "execution_count": 60,
   "id": "b5a9d53f",
   "metadata": {
    "execution": {
     "iopub.execute_input": "2024-01-28T16:53:26.376822Z",
     "iopub.status.busy": "2024-01-28T16:53:26.376484Z",
     "iopub.status.idle": "2024-01-28T16:53:26.382162Z",
     "shell.execute_reply": "2024-01-28T16:53:26.381293Z"
    },
    "papermill": {
     "duration": 0.042394,
     "end_time": "2024-01-28T16:53:26.384077",
     "exception": false,
     "start_time": "2024-01-28T16:53:26.341683",
     "status": "completed"
    },
    "tags": []
   },
   "outputs": [
    {
     "data": {
      "text/plain": [
       "0.8773240039682471"
      ]
     },
     "execution_count": 60,
     "metadata": {},
     "output_type": "execute_result"
    }
   ],
   "source": [
    "rf_cv.best_score_"
   ]
  },
  {
   "cell_type": "markdown",
   "id": "a1882c4c",
   "metadata": {
    "papermill": {
     "duration": 0.034095,
     "end_time": "2024-01-28T16:53:26.452167",
     "exception": false,
     "start_time": "2024-01-28T16:53:26.418072",
     "status": "completed"
    },
    "tags": []
   },
   "source": [
    "## Evaluate on the validation set"
   ]
  },
  {
   "cell_type": "code",
   "execution_count": 61,
   "id": "0b40b29b",
   "metadata": {
    "execution": {
     "iopub.execute_input": "2024-01-28T16:53:26.521630Z",
     "iopub.status.busy": "2024-01-28T16:53:26.521304Z",
     "iopub.status.idle": "2024-01-28T16:53:27.372981Z",
     "shell.execute_reply": "2024-01-28T16:53:27.371994Z"
    },
    "papermill": {
     "duration": 0.888962,
     "end_time": "2024-01-28T16:53:27.375292",
     "exception": false,
     "start_time": "2024-01-28T16:53:26.486330",
     "status": "completed"
    },
    "tags": []
   },
   "outputs": [],
   "source": [
    "lgb_score = roc_auc_score(y_val, lgb_cv.best_estimator_.predict_proba(new_X_val_scaled)[:, 1])\n",
    "gb_score = roc_auc_score(y_val, gb_cv.best_estimator_.predict_proba(new_X_val_scaled)[:, 1])\n",
    "cb_score = roc_auc_score(y_val, cb_cv.best_estimator_.predict_proba(new_X_val_scaled)[:, 1])\n",
    "xgb_score = roc_auc_score(y_val, xgb_cv.best_estimator_.predict_proba(new_X_val_scaled)[:, 1])\n",
    "ada_score = roc_auc_score(y_val, ada_cv.best_estimator_.predict_proba(new_X_val_scaled)[:, 1])\n",
    "rf_score = roc_auc_score(y_val, rf_cv.best_estimator_.predict_proba(new_X_val_scaled)[:, 1])"
   ]
  },
  {
   "cell_type": "code",
   "execution_count": 62,
   "id": "e96cff48",
   "metadata": {
    "execution": {
     "iopub.execute_input": "2024-01-28T16:53:27.445980Z",
     "iopub.status.busy": "2024-01-28T16:53:27.445654Z",
     "iopub.status.idle": "2024-01-28T16:53:27.450991Z",
     "shell.execute_reply": "2024-01-28T16:53:27.450093Z"
    },
    "papermill": {
     "duration": 0.042598,
     "end_time": "2024-01-28T16:53:27.453090",
     "exception": false,
     "start_time": "2024-01-28T16:53:27.410492",
     "status": "completed"
    },
    "tags": []
   },
   "outputs": [
    {
     "name": "stdout",
     "output_type": "stream",
     "text": [
      "lgb: 0.8897685586184318\n",
      "gb: 0.8413150612950283\n",
      "cb: 0.8891025338320899\n",
      "xgb: 0.8877996414301845\n",
      "ada: 0.8681365402136367\n",
      "rf: 0.8766283267477919\n"
     ]
    }
   ],
   "source": [
    "print(f'lgb: {lgb_score}')\n",
    "print(f'gb: {gb_score}')\n",
    "print(f'cb: {cb_score}')\n",
    "print(f'xgb: {xgb_score}')\n",
    "print(f'ada: {ada_score}')\n",
    "print(f'rf: {rf_score}')\n"
   ]
  },
  {
   "cell_type": "markdown",
   "id": "3eab200d",
   "metadata": {
    "papermill": {
     "duration": 0.03389,
     "end_time": "2024-01-28T16:53:27.521157",
     "exception": false,
     "start_time": "2024-01-28T16:53:27.487267",
     "status": "completed"
    },
    "tags": []
   },
   "source": [
    "# Predict on Test Set"
   ]
  },
  {
   "cell_type": "code",
   "execution_count": 63,
   "id": "699b5c99",
   "metadata": {
    "execution": {
     "iopub.execute_input": "2024-01-28T16:53:27.589919Z",
     "iopub.status.busy": "2024-01-28T16:53:27.589631Z",
     "iopub.status.idle": "2024-01-28T16:53:27.605534Z",
     "shell.execute_reply": "2024-01-28T16:53:27.604678Z"
    },
    "papermill": {
     "duration": 0.052321,
     "end_time": "2024-01-28T16:53:27.607347",
     "exception": false,
     "start_time": "2024-01-28T16:53:27.555026",
     "status": "completed"
    },
    "tags": []
   },
   "outputs": [
    {
     "data": {
      "text/html": [
       "<div>\n",
       "<style scoped>\n",
       "    .dataframe tbody tr th:only-of-type {\n",
       "        vertical-align: middle;\n",
       "    }\n",
       "\n",
       "    .dataframe tbody tr th {\n",
       "        vertical-align: top;\n",
       "    }\n",
       "\n",
       "    .dataframe thead th {\n",
       "        text-align: right;\n",
       "    }\n",
       "</style>\n",
       "<table border=\"1\" class=\"dataframe\">\n",
       "  <thead>\n",
       "    <tr style=\"text-align: right;\">\n",
       "      <th></th>\n",
       "      <th>id</th>\n",
       "      <th>CustomerId</th>\n",
       "      <th>Surname</th>\n",
       "      <th>CreditScore</th>\n",
       "      <th>Geography</th>\n",
       "      <th>Gender</th>\n",
       "      <th>Age</th>\n",
       "      <th>Tenure</th>\n",
       "      <th>Balance</th>\n",
       "      <th>NumOfProducts</th>\n",
       "      <th>HasCrCard</th>\n",
       "      <th>IsActiveMember</th>\n",
       "      <th>EstimatedSalary</th>\n",
       "    </tr>\n",
       "  </thead>\n",
       "  <tbody>\n",
       "    <tr>\n",
       "      <th>0</th>\n",
       "      <td>165034</td>\n",
       "      <td>15773898</td>\n",
       "      <td>Lucchese</td>\n",
       "      <td>586</td>\n",
       "      <td>France</td>\n",
       "      <td>Female</td>\n",
       "      <td>23.0</td>\n",
       "      <td>2</td>\n",
       "      <td>0.00</td>\n",
       "      <td>2</td>\n",
       "      <td>0.0</td>\n",
       "      <td>1.0</td>\n",
       "      <td>160976.75</td>\n",
       "    </tr>\n",
       "    <tr>\n",
       "      <th>1</th>\n",
       "      <td>165035</td>\n",
       "      <td>15782418</td>\n",
       "      <td>Nott</td>\n",
       "      <td>683</td>\n",
       "      <td>France</td>\n",
       "      <td>Female</td>\n",
       "      <td>46.0</td>\n",
       "      <td>2</td>\n",
       "      <td>0.00</td>\n",
       "      <td>1</td>\n",
       "      <td>1.0</td>\n",
       "      <td>0.0</td>\n",
       "      <td>72549.27</td>\n",
       "    </tr>\n",
       "    <tr>\n",
       "      <th>2</th>\n",
       "      <td>165036</td>\n",
       "      <td>15807120</td>\n",
       "      <td>K?</td>\n",
       "      <td>656</td>\n",
       "      <td>France</td>\n",
       "      <td>Female</td>\n",
       "      <td>34.0</td>\n",
       "      <td>7</td>\n",
       "      <td>0.00</td>\n",
       "      <td>2</td>\n",
       "      <td>1.0</td>\n",
       "      <td>0.0</td>\n",
       "      <td>138882.09</td>\n",
       "    </tr>\n",
       "    <tr>\n",
       "      <th>3</th>\n",
       "      <td>165037</td>\n",
       "      <td>15808905</td>\n",
       "      <td>O'Donnell</td>\n",
       "      <td>681</td>\n",
       "      <td>France</td>\n",
       "      <td>Male</td>\n",
       "      <td>36.0</td>\n",
       "      <td>8</td>\n",
       "      <td>0.00</td>\n",
       "      <td>1</td>\n",
       "      <td>1.0</td>\n",
       "      <td>0.0</td>\n",
       "      <td>113931.57</td>\n",
       "    </tr>\n",
       "    <tr>\n",
       "      <th>4</th>\n",
       "      <td>165038</td>\n",
       "      <td>15607314</td>\n",
       "      <td>Higgins</td>\n",
       "      <td>752</td>\n",
       "      <td>Germany</td>\n",
       "      <td>Male</td>\n",
       "      <td>38.0</td>\n",
       "      <td>10</td>\n",
       "      <td>121263.62</td>\n",
       "      <td>1</td>\n",
       "      <td>1.0</td>\n",
       "      <td>0.0</td>\n",
       "      <td>139431.00</td>\n",
       "    </tr>\n",
       "  </tbody>\n",
       "</table>\n",
       "</div>"
      ],
      "text/plain": [
       "       id  CustomerId    Surname  CreditScore Geography  Gender   Age  Tenure  \\\n",
       "0  165034    15773898   Lucchese          586    France  Female  23.0       2   \n",
       "1  165035    15782418       Nott          683    France  Female  46.0       2   \n",
       "2  165036    15807120         K?          656    France  Female  34.0       7   \n",
       "3  165037    15808905  O'Donnell          681    France    Male  36.0       8   \n",
       "4  165038    15607314    Higgins          752   Germany    Male  38.0      10   \n",
       "\n",
       "     Balance  NumOfProducts  HasCrCard  IsActiveMember  EstimatedSalary  \n",
       "0       0.00              2        0.0             1.0        160976.75  \n",
       "1       0.00              1        1.0             0.0         72549.27  \n",
       "2       0.00              2        1.0             0.0        138882.09  \n",
       "3       0.00              1        1.0             0.0        113931.57  \n",
       "4  121263.62              1        1.0             0.0        139431.00  "
      ]
     },
     "execution_count": 63,
     "metadata": {},
     "output_type": "execute_result"
    }
   ],
   "source": [
    "df_test.head()"
   ]
  },
  {
   "cell_type": "code",
   "execution_count": 64,
   "id": "aae5af2b",
   "metadata": {
    "execution": {
     "iopub.execute_input": "2024-01-28T16:53:27.677055Z",
     "iopub.status.busy": "2024-01-28T16:53:27.676771Z",
     "iopub.status.idle": "2024-01-28T16:53:27.733139Z",
     "shell.execute_reply": "2024-01-28T16:53:27.732241Z"
    },
    "papermill": {
     "duration": 0.093424,
     "end_time": "2024-01-28T16:53:27.735066",
     "exception": false,
     "start_time": "2024-01-28T16:53:27.641642",
     "status": "completed"
    },
    "tags": []
   },
   "outputs": [
    {
     "data": {
      "text/plain": [
       "0"
      ]
     },
     "execution_count": 64,
     "metadata": {},
     "output_type": "execute_result"
    }
   ],
   "source": [
    "df_test.duplicated().sum()"
   ]
  },
  {
   "cell_type": "code",
   "execution_count": 65,
   "id": "24f869f1",
   "metadata": {
    "execution": {
     "iopub.execute_input": "2024-01-28T16:53:27.806748Z",
     "iopub.status.busy": "2024-01-28T16:53:27.806465Z",
     "iopub.status.idle": "2024-01-28T16:53:27.842915Z",
     "shell.execute_reply": "2024-01-28T16:53:27.842074Z"
    },
    "papermill": {
     "duration": 0.073867,
     "end_time": "2024-01-28T16:53:27.844734",
     "exception": false,
     "start_time": "2024-01-28T16:53:27.770867",
     "status": "completed"
    },
    "tags": []
   },
   "outputs": [
    {
     "data": {
      "text/plain": [
       "id                 0\n",
       "CustomerId         0\n",
       "Surname            0\n",
       "CreditScore        0\n",
       "Geography          0\n",
       "Gender             0\n",
       "Age                0\n",
       "Tenure             0\n",
       "Balance            0\n",
       "NumOfProducts      0\n",
       "HasCrCard          0\n",
       "IsActiveMember     0\n",
       "EstimatedSalary    0\n",
       "dtype: int64"
      ]
     },
     "execution_count": 65,
     "metadata": {},
     "output_type": "execute_result"
    }
   ],
   "source": [
    "df_test.isna().sum()"
   ]
  },
  {
   "cell_type": "code",
   "execution_count": 66,
   "id": "9f92b0e4",
   "metadata": {
    "execution": {
     "iopub.execute_input": "2024-01-28T16:53:27.916047Z",
     "iopub.status.busy": "2024-01-28T16:53:27.915725Z",
     "iopub.status.idle": "2024-01-28T16:53:28.125155Z",
     "shell.execute_reply": "2024-01-28T16:53:28.124161Z"
    },
    "papermill": {
     "duration": 0.248014,
     "end_time": "2024-01-28T16:53:28.127630",
     "exception": false,
     "start_time": "2024-01-28T16:53:27.879616",
     "status": "completed"
    },
    "tags": []
   },
   "outputs": [],
   "source": [
    "new_df_test = perform_feature_engineering(df_test)\n",
    "new_df_train = perform_feature_engineering(df_train)\n",
    "new_df_test.head()\n",
    "\n",
    "new_df_test.drop(columns=['id', 'CustomerId', 'Surname'], inplace=True)\n",
    "new_df_train.drop(columns=['CustomerId', 'Surname', 'Exited'], inplace=True)"
   ]
  },
  {
   "cell_type": "code",
   "execution_count": 67,
   "id": "6044f85e",
   "metadata": {
    "execution": {
     "iopub.execute_input": "2024-01-28T16:53:28.199366Z",
     "iopub.status.busy": "2024-01-28T16:53:28.199047Z",
     "iopub.status.idle": "2024-01-28T16:53:28.560016Z",
     "shell.execute_reply": "2024-01-28T16:53:28.559001Z"
    },
    "papermill": {
     "duration": 0.398691,
     "end_time": "2024-01-28T16:53:28.562095",
     "exception": false,
     "start_time": "2024-01-28T16:53:28.163404",
     "status": "completed"
    },
    "tags": []
   },
   "outputs": [
    {
     "data": {
      "text/html": [
       "<div>\n",
       "<style scoped>\n",
       "    .dataframe tbody tr th:only-of-type {\n",
       "        vertical-align: middle;\n",
       "    }\n",
       "\n",
       "    .dataframe tbody tr th {\n",
       "        vertical-align: top;\n",
       "    }\n",
       "\n",
       "    .dataframe thead th {\n",
       "        text-align: right;\n",
       "    }\n",
       "</style>\n",
       "<table border=\"1\" class=\"dataframe\">\n",
       "  <thead>\n",
       "    <tr style=\"text-align: right;\">\n",
       "      <th></th>\n",
       "      <th>CreditScore</th>\n",
       "      <th>Age</th>\n",
       "      <th>Tenure</th>\n",
       "      <th>Balance</th>\n",
       "      <th>NumOfProducts</th>\n",
       "      <th>HasCrCard</th>\n",
       "      <th>IsActiveMember</th>\n",
       "      <th>EstimatedSalary</th>\n",
       "      <th>AgeGroup</th>\n",
       "      <th>BalanceCat</th>\n",
       "      <th>CreScoreCat</th>\n",
       "      <th>SurnameLen</th>\n",
       "      <th>TotalProducts</th>\n",
       "      <th>Geography_France</th>\n",
       "      <th>Geography_Germany</th>\n",
       "      <th>Geography_Spain</th>\n",
       "      <th>Gender_Female</th>\n",
       "      <th>Gender_Male</th>\n",
       "    </tr>\n",
       "  </thead>\n",
       "  <tbody>\n",
       "    <tr>\n",
       "      <th>0</th>\n",
       "      <td>-0.879546</td>\n",
       "      <td>-1.705829</td>\n",
       "      <td>-1.076334</td>\n",
       "      <td>-0.883163</td>\n",
       "      <td>0.814298</td>\n",
       "      <td>0.0</td>\n",
       "      <td>1.0</td>\n",
       "      <td>0.962404</td>\n",
       "      <td>-1.482473</td>\n",
       "      <td>-0.904342</td>\n",
       "      <td>-1.204961</td>\n",
       "      <td>0.557259</td>\n",
       "      <td>-0.337614</td>\n",
       "      <td>1.0</td>\n",
       "      <td>0.0</td>\n",
       "      <td>0.0</td>\n",
       "      <td>1.0</td>\n",
       "      <td>0.0</td>\n",
       "    </tr>\n",
       "    <tr>\n",
       "      <th>1</th>\n",
       "      <td>0.331393</td>\n",
       "      <td>0.888007</td>\n",
       "      <td>-1.076334</td>\n",
       "      <td>-0.883163</td>\n",
       "      <td>-1.013348</td>\n",
       "      <td>1.0</td>\n",
       "      <td>0.0</td>\n",
       "      <td>-0.795852</td>\n",
       "      <td>0.707678</td>\n",
       "      <td>-0.904342</td>\n",
       "      <td>-0.062110</td>\n",
       "      <td>-0.972809</td>\n",
       "      <td>-1.081594</td>\n",
       "      <td>1.0</td>\n",
       "      <td>0.0</td>\n",
       "      <td>0.0</td>\n",
       "      <td>1.0</td>\n",
       "      <td>0.0</td>\n",
       "    </tr>\n",
       "    <tr>\n",
       "      <th>2</th>\n",
       "      <td>-0.005672</td>\n",
       "      <td>-0.465299</td>\n",
       "      <td>0.705467</td>\n",
       "      <td>-0.883163</td>\n",
       "      <td>0.814298</td>\n",
       "      <td>1.0</td>\n",
       "      <td>0.0</td>\n",
       "      <td>0.523083</td>\n",
       "      <td>-0.387398</td>\n",
       "      <td>-0.904342</td>\n",
       "      <td>-0.062110</td>\n",
       "      <td>-1.737844</td>\n",
       "      <td>2.266316</td>\n",
       "      <td>1.0</td>\n",
       "      <td>0.0</td>\n",
       "      <td>0.0</td>\n",
       "      <td>1.0</td>\n",
       "      <td>0.0</td>\n",
       "    </tr>\n",
       "    <tr>\n",
       "      <th>3</th>\n",
       "      <td>0.306425</td>\n",
       "      <td>-0.239748</td>\n",
       "      <td>1.061827</td>\n",
       "      <td>-0.883163</td>\n",
       "      <td>-1.013348</td>\n",
       "      <td>1.0</td>\n",
       "      <td>0.0</td>\n",
       "      <td>0.026977</td>\n",
       "      <td>-0.387398</td>\n",
       "      <td>-0.904342</td>\n",
       "      <td>-0.062110</td>\n",
       "      <td>0.939776</td>\n",
       "      <td>-1.081594</td>\n",
       "      <td>1.0</td>\n",
       "      <td>0.0</td>\n",
       "      <td>0.0</td>\n",
       "      <td>0.0</td>\n",
       "      <td>1.0</td>\n",
       "    </tr>\n",
       "    <tr>\n",
       "      <th>4</th>\n",
       "      <td>1.192783</td>\n",
       "      <td>-0.014197</td>\n",
       "      <td>1.774548</td>\n",
       "      <td>1.047249</td>\n",
       "      <td>-1.013348</td>\n",
       "      <td>1.0</td>\n",
       "      <td>0.0</td>\n",
       "      <td>0.533997</td>\n",
       "      <td>-0.387398</td>\n",
       "      <td>1.188109</td>\n",
       "      <td>1.080741</td>\n",
       "      <td>0.174742</td>\n",
       "      <td>0.406366</td>\n",
       "      <td>0.0</td>\n",
       "      <td>1.0</td>\n",
       "      <td>0.0</td>\n",
       "      <td>0.0</td>\n",
       "      <td>1.0</td>\n",
       "    </tr>\n",
       "  </tbody>\n",
       "</table>\n",
       "</div>"
      ],
      "text/plain": [
       "   CreditScore       Age    Tenure   Balance  NumOfProducts  HasCrCard  \\\n",
       "0    -0.879546 -1.705829 -1.076334 -0.883163       0.814298        0.0   \n",
       "1     0.331393  0.888007 -1.076334 -0.883163      -1.013348        1.0   \n",
       "2    -0.005672 -0.465299  0.705467 -0.883163       0.814298        1.0   \n",
       "3     0.306425 -0.239748  1.061827 -0.883163      -1.013348        1.0   \n",
       "4     1.192783 -0.014197  1.774548  1.047249      -1.013348        1.0   \n",
       "\n",
       "   IsActiveMember  EstimatedSalary  AgeGroup  BalanceCat  CreScoreCat  \\\n",
       "0             1.0         0.962404 -1.482473   -0.904342    -1.204961   \n",
       "1             0.0        -0.795852  0.707678   -0.904342    -0.062110   \n",
       "2             0.0         0.523083 -0.387398   -0.904342    -0.062110   \n",
       "3             0.0         0.026977 -0.387398   -0.904342    -0.062110   \n",
       "4             0.0         0.533997 -0.387398    1.188109     1.080741   \n",
       "\n",
       "   SurnameLen  TotalProducts  Geography_France  Geography_Germany  \\\n",
       "0    0.557259      -0.337614               1.0                0.0   \n",
       "1   -0.972809      -1.081594               1.0                0.0   \n",
       "2   -1.737844       2.266316               1.0                0.0   \n",
       "3    0.939776      -1.081594               1.0                0.0   \n",
       "4    0.174742       0.406366               0.0                1.0   \n",
       "\n",
       "   Geography_Spain  Gender_Female  Gender_Male  \n",
       "0              0.0            1.0          0.0  \n",
       "1              0.0            1.0          0.0  \n",
       "2              0.0            1.0          0.0  \n",
       "3              0.0            0.0          1.0  \n",
       "4              0.0            0.0          1.0  "
      ]
     },
     "execution_count": 67,
     "metadata": {},
     "output_type": "execute_result"
    }
   ],
   "source": [
    "_ , df_test_scaled = scale_and_encode(new_df_train, new_df_test)\n",
    "df_test_scaled.head()"
   ]
  },
  {
   "cell_type": "code",
   "execution_count": 68,
   "id": "223e7c66",
   "metadata": {
    "execution": {
     "iopub.execute_input": "2024-01-28T16:53:28.634306Z",
     "iopub.status.busy": "2024-01-28T16:53:28.634004Z",
     "iopub.status.idle": "2024-01-28T16:53:28.639516Z",
     "shell.execute_reply": "2024-01-28T16:53:28.638630Z"
    },
    "papermill": {
     "duration": 0.043257,
     "end_time": "2024-01-28T16:53:28.641427",
     "exception": false,
     "start_time": "2024-01-28T16:53:28.598170",
     "status": "completed"
    },
    "tags": []
   },
   "outputs": [
    {
     "data": {
      "text/plain": [
       "(110023, 18)"
      ]
     },
     "execution_count": 68,
     "metadata": {},
     "output_type": "execute_result"
    }
   ],
   "source": [
    "df_test_scaled.shape"
   ]
  },
  {
   "cell_type": "code",
   "execution_count": 69,
   "id": "bf881dc0",
   "metadata": {
    "execution": {
     "iopub.execute_input": "2024-01-28T16:53:28.712692Z",
     "iopub.status.busy": "2024-01-28T16:53:28.712442Z",
     "iopub.status.idle": "2024-01-28T16:53:28.716702Z",
     "shell.execute_reply": "2024-01-28T16:53:28.715858Z"
    },
    "papermill": {
     "duration": 0.042163,
     "end_time": "2024-01-28T16:53:28.718704",
     "exception": false,
     "start_time": "2024-01-28T16:53:28.676541",
     "status": "completed"
    },
    "tags": []
   },
   "outputs": [],
   "source": [
    "def test_perform(estimator, X_test=df_test_scaled):\n",
    "    y_pred_prob = estimator.predict_proba(X_test)[:, 1]\n",
    "    return y_pred_prob"
   ]
  },
  {
   "cell_type": "code",
   "execution_count": 70,
   "id": "8d78d4af",
   "metadata": {
    "execution": {
     "iopub.execute_input": "2024-01-28T16:53:28.791386Z",
     "iopub.status.busy": "2024-01-28T16:53:28.791100Z",
     "iopub.status.idle": "2024-01-28T16:53:30.742741Z",
     "shell.execute_reply": "2024-01-28T16:53:30.741939Z"
    },
    "papermill": {
     "duration": 1.991079,
     "end_time": "2024-01-28T16:53:30.745112",
     "exception": false,
     "start_time": "2024-01-28T16:53:28.754033",
     "status": "completed"
    },
    "tags": []
   },
   "outputs": [],
   "source": [
    "lgb_pred = test_perform(lgb_cv.best_estimator_)\n",
    "cb_pred = test_perform(cb_cv.best_estimator_)\n",
    "xgb_pred = test_perform(xgb_cv.best_estimator_)\n",
    "ada_pred = test_perform(ada_cv.best_estimator_)\n",
    "rf_pred = test_perform(rf_cv.best_estimator_)"
   ]
  },
  {
   "cell_type": "code",
   "execution_count": null,
   "id": "160b5794",
   "metadata": {
    "papermill": {
     "duration": 0.035134,
     "end_time": "2024-01-28T16:53:30.816844",
     "exception": false,
     "start_time": "2024-01-28T16:53:30.781710",
     "status": "completed"
    },
    "tags": []
   },
   "outputs": [],
   "source": []
  },
  {
   "cell_type": "markdown",
   "id": "af39f8f7",
   "metadata": {
    "papermill": {
     "duration": 0.034655,
     "end_time": "2024-01-28T16:53:30.887608",
     "exception": false,
     "start_time": "2024-01-28T16:53:30.852953",
     "status": "completed"
    },
    "tags": []
   },
   "source": [
    "# Submissions"
   ]
  },
  {
   "cell_type": "code",
   "execution_count": 71,
   "id": "bdc52281",
   "metadata": {
    "execution": {
     "iopub.execute_input": "2024-01-28T16:53:30.959396Z",
     "iopub.status.busy": "2024-01-28T16:53:30.959077Z",
     "iopub.status.idle": "2024-01-28T16:53:31.368800Z",
     "shell.execute_reply": "2024-01-28T16:53:31.367852Z"
    },
    "papermill": {
     "duration": 0.448216,
     "end_time": "2024-01-28T16:53:31.371249",
     "exception": false,
     "start_time": "2024-01-28T16:53:30.923033",
     "status": "completed"
    },
    "tags": []
   },
   "outputs": [],
   "source": [
    "ensemble1 = (lgb_pred + cb_pred + xgb_pred + ada_pred + rf_pred)/5\n",
    "sub1 = pd.DataFrame({'id':df_test.id, 'Exited':ensemble1})\n",
    "sub1.to_csv('submission_1.csv', index=False)"
   ]
  },
  {
   "cell_type": "code",
   "execution_count": 72,
   "id": "57fc9ff5",
   "metadata": {
    "execution": {
     "iopub.execute_input": "2024-01-28T16:53:31.445429Z",
     "iopub.status.busy": "2024-01-28T16:53:31.444598Z",
     "iopub.status.idle": "2024-01-28T16:53:31.839565Z",
     "shell.execute_reply": "2024-01-28T16:53:31.838577Z"
    },
    "papermill": {
     "duration": 0.434105,
     "end_time": "2024-01-28T16:53:31.842014",
     "exception": false,
     "start_time": "2024-01-28T16:53:31.407909",
     "status": "completed"
    },
    "tags": []
   },
   "outputs": [],
   "source": [
    "ensemble2 = (lgb_pred + cb_pred + xgb_pred)/3\n",
    "\n",
    "sub2 = pd.DataFrame({'id':df_test.id, 'Exited':ensemble2})\n",
    "sub2.to_csv('submission_2.csv', index=False)\n"
   ]
  },
  {
   "cell_type": "code",
   "execution_count": 73,
   "id": "60f12fc1",
   "metadata": {
    "execution": {
     "iopub.execute_input": "2024-01-28T16:53:31.915634Z",
     "iopub.status.busy": "2024-01-28T16:53:31.915351Z",
     "iopub.status.idle": "2024-01-28T16:53:33.480270Z",
     "shell.execute_reply": "2024-01-28T16:53:33.479272Z"
    },
    "papermill": {
     "duration": 1.603521,
     "end_time": "2024-01-28T16:53:33.482610",
     "exception": false,
     "start_time": "2024-01-28T16:53:31.879089",
     "status": "completed"
    },
    "tags": []
   },
   "outputs": [],
   "source": [
    "sub3 = pd.DataFrame({'id':df_test.id, 'Exited':lgb_pred})\n",
    "sub3.to_csv('submission_3.csv', index=False)\n",
    "\n",
    "sub4 = pd.DataFrame({'id':df_test.id, 'Exited':xgb_pred})\n",
    "sub4.to_csv('submission_4.csv', index=False)\n",
    "\n",
    "sub5 = pd.DataFrame({'id':df_test.id, 'Exited':cb_pred})\n",
    "sub5.to_csv('submission_5.csv', index=False)\n",
    "\n",
    "sub6 = pd.DataFrame({'id':df_test.id, 'Exited':rf_pred})\n",
    "sub6.to_csv('submission_6.csv', index=False)"
   ]
  },
  {
   "cell_type": "code",
   "execution_count": null,
   "id": "e5ae8ee8",
   "metadata": {
    "execution": {
     "iopub.execute_input": "2024-01-28T16:27:43.701238Z",
     "iopub.status.busy": "2024-01-28T16:27:43.700842Z",
     "iopub.status.idle": "2024-01-28T16:27:44.035592Z",
     "shell.execute_reply": "2024-01-28T16:27:44.034775Z",
     "shell.execute_reply.started": "2024-01-28T16:27:43.701189Z"
    },
    "papermill": {
     "duration": 0.035032,
     "end_time": "2024-01-28T16:53:33.553631",
     "exception": false,
     "start_time": "2024-01-28T16:53:33.518599",
     "status": "completed"
    },
    "tags": []
   },
   "outputs": [],
   "source": []
  },
  {
   "cell_type": "code",
   "execution_count": null,
   "id": "ca7153c2",
   "metadata": {
    "papermill": {
     "duration": 0.034832,
     "end_time": "2024-01-28T16:53:33.623590",
     "exception": false,
     "start_time": "2024-01-28T16:53:33.588758",
     "status": "completed"
    },
    "tags": []
   },
   "outputs": [],
   "source": []
  }
 ],
 "metadata": {
  "kaggle": {
   "accelerator": "gpu",
   "dataSources": [
    {
     "databundleVersionId": 7405009,
     "sourceId": 65711,
     "sourceType": "competition"
    }
   ],
   "dockerImageVersionId": 30635,
   "isGpuEnabled": true,
   "isInternetEnabled": true,
   "language": "python",
   "sourceType": "notebook"
  },
  "kernelspec": {
   "display_name": "Python 3",
   "language": "python",
   "name": "python3"
  },
  "language_info": {
   "codemirror_mode": {
    "name": "ipython",
    "version": 3
   },
   "file_extension": ".py",
   "mimetype": "text/x-python",
   "name": "python",
   "nbconvert_exporter": "python",
   "pygments_lexer": "ipython3",
   "version": "3.10.12"
  },
  "papermill": {
   "default_parameters": {},
   "duration": 1337.985548,
   "end_time": "2024-01-28T16:53:34.883583",
   "environment_variables": {},
   "exception": null,
   "input_path": "__notebook__.ipynb",
   "output_path": "__notebook__.ipynb",
   "parameters": {},
   "start_time": "2024-01-28T16:31:16.898035",
   "version": "2.4.0"
  }
 },
 "nbformat": 4,
 "nbformat_minor": 5
}
